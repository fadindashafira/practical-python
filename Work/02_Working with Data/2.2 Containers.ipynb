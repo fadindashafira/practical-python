{
 "cells": [
  {
   "attachments": {},
   "cell_type": "markdown",
   "metadata": {},
   "source": [
    "# 2.2 Containers\n",
    "\n",
    "This section discusses lists, dictionaries, and sets."
   ]
  },
  {
   "attachments": {},
   "cell_type": "markdown",
   "metadata": {},
   "source": [
    "**Overview**\n",
    "\n",
    "Programs often have to work with many objects.\n",
    "\n",
    "- A portfolio of stocks\n",
    "- A table of stock prices\n",
    "  \n",
    "There are three main choices to use.\n",
    "\n",
    "- Lists. Ordered data.\n",
    "- Dictionaries. Unordered data.\n",
    "- Sets. Unordered collection of unique items.\n",
    "  \n",
    "**Lists as a Container**\n",
    "\n",
    "Use a list when the order of the data matters. Remember that lists can hold any kind of object. For example, a list of tuples."
   ]
  },
  {
   "cell_type": "code",
   "execution_count": 2,
   "metadata": {},
   "outputs": [],
   "source": [
    "# Lists as a container\n",
    "# Ex: List of tuples\n",
    "\n",
    "portfolio = [\n",
    "    ('GOOG', 100, 490.1),  \n",
    "    ('IBM', 50, 91.3),\n",
    "    ('CAT', 150, 83.44)\n",
    "]"
   ]
  },
  {
   "cell_type": "code",
   "execution_count": 4,
   "metadata": {},
   "outputs": [
    {
     "data": {
      "text/plain": [
       "('CAT', 150, 83.44)"
      ]
     },
     "execution_count": 4,
     "metadata": {},
     "output_type": "execute_result"
    }
   ],
   "source": [
    "portfolio[0]            # ('GOOG', 100, 490.1)\n",
    "portfolio[2]            # ('CAT', 150, 83.44)"
   ]
  },
  {
   "attachments": {},
   "cell_type": "markdown",
   "metadata": {},
   "source": [
    "**List construction**\n",
    "\n",
    "Building a list from scratch."
   ]
  },
  {
   "cell_type": "code",
   "execution_count": 6,
   "metadata": {},
   "outputs": [
    {
     "data": {
      "text/plain": [
       "[('GOOG', 100, 490.1), ('IBM', 50, 91.3)]"
      ]
     },
     "execution_count": 6,
     "metadata": {},
     "output_type": "execute_result"
    }
   ],
   "source": [
    "records = [] # Initial empty list \n",
    "\n",
    "# Use .append() to add more items\n",
    "\n",
    "records.append(('GOOG', 100, 490.10))\n",
    "records.append(('IBM', 50, 91.3))\n",
    "\n",
    "records"
   ]
  },
  {
   "attachments": {},
   "cell_type": "markdown",
   "metadata": {},
   "source": [
    "An example when reading records from a file."
   ]
  },
  {
   "cell_type": "code",
   "execution_count": 3,
   "metadata": {},
   "outputs": [],
   "source": [
    "import os\n",
    "os.chdir(r\"C:\\Users\\Fadinda Shafira\\Documents\\KALBE\\Python\\practical-python\\Work\")"
   ]
  },
  {
   "cell_type": "code",
   "execution_count": 17,
   "metadata": {},
   "outputs": [
    {
     "name": "stdout",
     "output_type": "stream",
     "text": [
      "[('\"AA\"', 100, 32.2)]\n",
      "[('\"AA\"', 100, 32.2), ('\"IBM\"', 50, 91.1)]\n",
      "[('\"AA\"', 100, 32.2), ('\"IBM\"', 50, 91.1), ('\"CAT\"', 150, 83.44)]\n",
      "[('\"AA\"', 100, 32.2), ('\"IBM\"', 50, 91.1), ('\"CAT\"', 150, 83.44), ('\"MSFT\"', 200, 51.23)]\n",
      "[('\"AA\"', 100, 32.2), ('\"IBM\"', 50, 91.1), ('\"CAT\"', 150, 83.44), ('\"MSFT\"', 200, 51.23), ('\"GE\"', 95, 40.37)]\n",
      "[('\"AA\"', 100, 32.2), ('\"IBM\"', 50, 91.1), ('\"CAT\"', 150, 83.44), ('\"MSFT\"', 200, 51.23), ('\"GE\"', 95, 40.37), ('\"MSFT\"', 50, 65.1)]\n",
      "[('\"AA\"', 100, 32.2), ('\"IBM\"', 50, 91.1), ('\"CAT\"', 150, 83.44), ('\"MSFT\"', 200, 51.23), ('\"GE\"', 95, 40.37), ('\"MSFT\"', 50, 65.1), ('\"IBM\"', 100, 70.44)]\n"
     ]
    }
   ],
   "source": [
    "records = [] # Initial empty list\n",
    "\n",
    "with open('Data\\portfolio.csv', 'rt') as f:\n",
    "    next(f) # Skip header\n",
    "    for line in f:\n",
    "        row = line.split(',')\n",
    "        records.append((row[0], int(row[1]), float(row[2])))\n",
    "        print(records)"
   ]
  },
  {
   "attachments": {},
   "cell_type": "markdown",
   "metadata": {},
   "source": [
    "**Dicts as a Container**\n",
    "\n",
    "Dictionaries are useful if you want fast random lookups (by key name). For example, a dictionary of stock prices:"
   ]
  },
  {
   "cell_type": "code",
   "execution_count": 18,
   "metadata": {},
   "outputs": [],
   "source": [
    "prices = {\n",
    "   'GOOG': 513.25,\n",
    "   'CAT': 87.22,\n",
    "   'IBM': 93.37,\n",
    "   'MSFT': 44.12\n",
    "}"
   ]
  },
  {
   "attachments": {},
   "cell_type": "markdown",
   "metadata": {},
   "source": [
    "Here are some simple lookups:"
   ]
  },
  {
   "cell_type": "code",
   "execution_count": 19,
   "metadata": {},
   "outputs": [
    {
     "data": {
      "text/plain": [
       "93.37"
      ]
     },
     "execution_count": 19,
     "metadata": {},
     "output_type": "execute_result"
    }
   ],
   "source": [
    "prices['IBM']"
   ]
  },
  {
   "cell_type": "code",
   "execution_count": 20,
   "metadata": {},
   "outputs": [
    {
     "data": {
      "text/plain": [
       "93.37"
      ]
     },
     "execution_count": 20,
     "metadata": {},
     "output_type": "execute_result"
    }
   ],
   "source": [
    "prices['IBM']"
   ]
  },
  {
   "attachments": {},
   "cell_type": "markdown",
   "metadata": {},
   "source": [
    "**Dict Construction**\n",
    "\n",
    "Example of building a dict from scratch."
   ]
  },
  {
   "cell_type": "code",
   "execution_count": 33,
   "metadata": {},
   "outputs": [
    {
     "data": {
      "text/plain": [
       "{'GOOG': 513.25, 'CAT': 87.22, 'IBM': 93.37}"
      ]
     },
     "execution_count": 33,
     "metadata": {},
     "output_type": "execute_result"
    }
   ],
   "source": [
    "prices = {} # Initialize empty dict\n",
    "\n",
    "# Insert new items\n",
    "prices['GOOG'] = 513.25\n",
    "prices['CAT'] = 87.22\n",
    "prices['IBM'] = 93.37\n",
    "\n",
    "prices\n"
   ]
  },
  {
   "attachments": {},
   "cell_type": "markdown",
   "metadata": {},
   "source": [
    "An example populating the dict from the contents of a file."
   ]
  },
  {
   "cell_type": "code",
   "execution_count": 29,
   "metadata": {},
   "outputs": [
    {
     "ename": "IndexError",
     "evalue": "list index out of range",
     "output_type": "error",
     "traceback": [
      "\u001b[1;31m---------------------------------------------------------------------------\u001b[0m",
      "\u001b[1;31mIndexError\u001b[0m                                Traceback (most recent call last)",
      "\u001b[1;32mc:\\Users\\Fadinda Shafira\\Documents\\KALBE\\Python\\practical-python\\Work\\02_Working with Data\\2.2 Containers.ipynb Cell 18\u001b[0m in \u001b[0;36m<cell line: 3>\u001b[1;34m()\u001b[0m\n\u001b[0;32m      <a href='vscode-notebook-cell:/c%3A/Users/Fadinda%20Shafira/Documents/KALBE/Python/practical-python/Work/02_Working%20with%20Data/2.2%20Containers.ipynb#X24sZmlsZQ%3D%3D?line=3'>4</a>\u001b[0m \u001b[39mfor\u001b[39;00m line \u001b[39min\u001b[39;00m f:\n\u001b[0;32m      <a href='vscode-notebook-cell:/c%3A/Users/Fadinda%20Shafira/Documents/KALBE/Python/practical-python/Work/02_Working%20with%20Data/2.2%20Containers.ipynb#X24sZmlsZQ%3D%3D?line=4'>5</a>\u001b[0m     row \u001b[39m=\u001b[39m line\u001b[39m.\u001b[39msplit(\u001b[39m'\u001b[39m\u001b[39m,\u001b[39m\u001b[39m'\u001b[39m)\n\u001b[1;32m----> <a href='vscode-notebook-cell:/c%3A/Users/Fadinda%20Shafira/Documents/KALBE/Python/practical-python/Work/02_Working%20with%20Data/2.2%20Containers.ipynb#X24sZmlsZQ%3D%3D?line=5'>6</a>\u001b[0m     prices[row[\u001b[39m0\u001b[39m]] \u001b[39m=\u001b[39m \u001b[39mfloat\u001b[39m(row[\u001b[39m1\u001b[39;49m])\n",
      "\u001b[1;31mIndexError\u001b[0m: list index out of range"
     ]
    }
   ],
   "source": [
    "prices = {} # Initial empty dict\n",
    "\n",
    "with open('Data\\prices.csv', 'rt') as f:\n",
    "    for line in f:\n",
    "        row = line.split(',')\n",
    "        prices[row[0]] = float(row[1])"
   ]
  },
  {
   "attachments": {},
   "cell_type": "markdown",
   "metadata": {},
   "source": [
    "Note: If you try this on the Data/prices.csv file, you'll find that it almost works--there's a blank line at the end that causes it to crash. You'll need to figure out some way to modify the code to account for that (see Exercise 2.6)."
   ]
  },
  {
   "attachments": {},
   "cell_type": "markdown",
   "metadata": {},
   "source": [
    "**Dictionary Lookups**\n",
    "\n",
    "You can test the existence of a key."
   ]
  },
  {
   "cell_type": "code",
   "execution_count": null,
   "metadata": {},
   "outputs": [],
   "source": [
    "if key in d:\n",
    "    # YES\n",
    "else:\n",
    "    # NO"
   ]
  },
  {
   "attachments": {},
   "cell_type": "markdown",
   "metadata": {},
   "source": [
    "You can look up a value that might not exist and provide a default value in case it doesn't."
   ]
  },
  {
   "cell_type": "code",
   "execution_count": null,
   "metadata": {},
   "outputs": [],
   "source": [
    "name = d.get(key, default)"
   ]
  },
  {
   "attachments": {},
   "cell_type": "markdown",
   "metadata": {},
   "source": [
    "An example:"
   ]
  },
  {
   "cell_type": "code",
   "execution_count": 35,
   "metadata": {},
   "outputs": [
    {
     "data": {
      "text/plain": [
       "93.37"
      ]
     },
     "execution_count": 35,
     "metadata": {},
     "output_type": "execute_result"
    }
   ],
   "source": [
    "prices.get('IBM', 93.37)"
   ]
  },
  {
   "cell_type": "code",
   "execution_count": 36,
   "metadata": {},
   "outputs": [
    {
     "data": {
      "text/plain": [
       "0.0"
      ]
     },
     "execution_count": 36,
     "metadata": {},
     "output_type": "execute_result"
    }
   ],
   "source": [
    "prices.get('SCOX', 0.0)"
   ]
  },
  {
   "attachments": {},
   "cell_type": "markdown",
   "metadata": {},
   "source": [
    "**Composite keys**\n",
    "\n",
    "Almost any type of value can be used as a dictionary key in Python. A dictionary key must be of a type that is immutable. For example, tuples:"
   ]
  },
  {
   "cell_type": "code",
   "execution_count": 37,
   "metadata": {},
   "outputs": [],
   "source": [
    "holidays = {\n",
    "  (1, 1) : 'New Years',\n",
    "  (3, 14) : 'Pi day',\n",
    "  (9, 13) : \"Programmer's day\",\n",
    "}"
   ]
  },
  {
   "attachments": {},
   "cell_type": "markdown",
   "metadata": {},
   "source": [
    "Then to access:"
   ]
  },
  {
   "cell_type": "code",
   "execution_count": 38,
   "metadata": {},
   "outputs": [
    {
     "data": {
      "text/plain": [
       "'Pi day'"
      ]
     },
     "execution_count": 38,
     "metadata": {},
     "output_type": "execute_result"
    }
   ],
   "source": [
    "holidays[3, 14]"
   ]
  },
  {
   "attachments": {},
   "cell_type": "markdown",
   "metadata": {},
   "source": [
    "Neither a list, a set, nor another dictionary can serve as a dictionary key, because lists and dictionaries are mutable."
   ]
  },
  {
   "attachments": {},
   "cell_type": "markdown",
   "metadata": {},
   "source": [
    "**Sets**\n",
    "\n",
    "Sets are collection of unordered unique items."
   ]
  },
  {
   "cell_type": "code",
   "execution_count": 44,
   "metadata": {},
   "outputs": [
    {
     "data": {
      "text/plain": [
       "{'AAPL', 'IBM', 'MSFT'}"
      ]
     },
     "execution_count": 44,
     "metadata": {},
     "output_type": "execute_result"
    }
   ],
   "source": [
    "tech_stocks = {'IBM', 'AAPL', 'MSFT'}\n",
    "\n",
    "# Alternative syntax\n",
    "tech_stocks = set(['IBM', 'AAPL', 'MSFT'])\n",
    "tech_stocks"
   ]
  },
  {
   "attachments": {},
   "cell_type": "markdown",
   "metadata": {},
   "source": [
    "Sets are useful for membership tests."
   ]
  },
  {
   "cell_type": "code",
   "execution_count": 45,
   "metadata": {},
   "outputs": [
    {
     "data": {
      "text/plain": [
       "set"
      ]
     },
     "execution_count": 45,
     "metadata": {},
     "output_type": "execute_result"
    }
   ],
   "source": [
    "type(tech_stocks)"
   ]
  },
  {
   "cell_type": "code",
   "execution_count": 46,
   "metadata": {},
   "outputs": [
    {
     "data": {
      "text/plain": [
       "True"
      ]
     },
     "execution_count": 46,
     "metadata": {},
     "output_type": "execute_result"
    }
   ],
   "source": [
    "'IBM' in tech_stocks"
   ]
  },
  {
   "cell_type": "code",
   "execution_count": 47,
   "metadata": {},
   "outputs": [
    {
     "data": {
      "text/plain": [
       "False"
      ]
     },
     "execution_count": 47,
     "metadata": {},
     "output_type": "execute_result"
    }
   ],
   "source": [
    "'FB' in tech_stocks"
   ]
  },
  {
   "attachments": {},
   "cell_type": "markdown",
   "metadata": {},
   "source": [
    "Sets are also useful for duplicate elimination."
   ]
  },
  {
   "cell_type": "code",
   "execution_count": 49,
   "metadata": {},
   "outputs": [
    {
     "data": {
      "text/plain": [
       "{'AAPL', 'GOOG', 'IBM', 'YHOO'}"
      ]
     },
     "execution_count": 49,
     "metadata": {},
     "output_type": "execute_result"
    }
   ],
   "source": [
    "names = ['IBM', 'AAPL', 'GOOG', 'IBM', 'GOOG', 'YHOO']\n",
    "\n",
    "unique = set(names) # eliminate duplicate\n",
    "unique"
   ]
  },
  {
   "attachments": {},
   "cell_type": "markdown",
   "metadata": {},
   "source": [
    "Additional set operations:"
   ]
  },
  {
   "cell_type": "code",
   "execution_count": 50,
   "metadata": {},
   "outputs": [
    {
     "data": {
      "text/plain": [
       "{'AAPL', 'CAT', 'GOOG', 'IBM', 'YHOO'}"
      ]
     },
     "execution_count": 50,
     "metadata": {},
     "output_type": "execute_result"
    }
   ],
   "source": [
    "unique.add('CAT')   # add an item\n",
    "unique"
   ]
  },
  {
   "cell_type": "code",
   "execution_count": 51,
   "metadata": {},
   "outputs": [
    {
     "data": {
      "text/plain": [
       "{'AAPL', 'CAT', 'GOOG', 'IBM'}"
      ]
     },
     "execution_count": 51,
     "metadata": {},
     "output_type": "execute_result"
    }
   ],
   "source": [
    "unique.remove('YHOO') # remove an item\n",
    "unique"
   ]
  },
  {
   "cell_type": "code",
   "execution_count": 52,
   "metadata": {},
   "outputs": [],
   "source": [
    "s1 = { 'a', 'b', 'c'}\n",
    "s2 = { 'c', 'd' }"
   ]
  },
  {
   "cell_type": "code",
   "execution_count": 53,
   "metadata": {},
   "outputs": [
    {
     "data": {
      "text/plain": [
       "{'a', 'b', 'c', 'd'}"
      ]
     },
     "execution_count": 53,
     "metadata": {},
     "output_type": "execute_result"
    }
   ],
   "source": [
    "s1 | s2                 # Set union { 'a', 'b', 'c', 'd' }"
   ]
  },
  {
   "cell_type": "code",
   "execution_count": 54,
   "metadata": {},
   "outputs": [
    {
     "data": {
      "text/plain": [
       "{'c'}"
      ]
     },
     "execution_count": 54,
     "metadata": {},
     "output_type": "execute_result"
    }
   ],
   "source": [
    "s1 & s2                 # Set intersection { 'c' }"
   ]
  },
  {
   "cell_type": "code",
   "execution_count": 57,
   "metadata": {},
   "outputs": [
    {
     "data": {
      "text/plain": [
       "{'a', 'b'}"
      ]
     },
     "execution_count": 57,
     "metadata": {},
     "output_type": "execute_result"
    }
   ],
   "source": [
    "s1 - s2                 # Set difference { 'a', 'b' }"
   ]
  },
  {
   "cell_type": "code",
   "execution_count": 58,
   "metadata": {},
   "outputs": [
    {
     "data": {
      "text/plain": [
       "{'d'}"
      ]
     },
     "execution_count": 58,
     "metadata": {},
     "output_type": "execute_result"
    }
   ],
   "source": [
    "s2 - s1"
   ]
  },
  {
   "attachments": {},
   "cell_type": "markdown",
   "metadata": {},
   "source": [
    "## Exercises\n",
    "\n",
    "In these exercises, you start building one of the major programs used for the rest of this course. Do your work in the file Work/report.py.\n",
    "\n",
    "**Exercise 2.4: A list of tuples**\n",
    "\n",
    "The file Data/portfolio.csv contains a list of stocks in a portfolio. In Exercise 1.30, you wrote a function portfolio_cost(filename) that read this file and performed a simple calculation.\n",
    "\n",
    "Your code should have looked something like this:"
   ]
  },
  {
   "cell_type": "code",
   "execution_count": 59,
   "metadata": {},
   "outputs": [],
   "source": [
    "# pcost.py\n",
    "\n",
    "import csv\n",
    "\n",
    "def portfolio_cost(filename):\n",
    "    '''Computes the total cost (shares*price) of a portfolio file'''\n",
    "    total_cost = 0.0\n",
    "\n",
    "    with open(filename, 'rt') as f:\n",
    "        rows = csv.reader(f)\n",
    "        headers = next(rows)\n",
    "        for row in rows:\n",
    "            nshares = int(row[1])\n",
    "            price = float(row[2])\n",
    "            total_cost += nshares * price\n",
    "    return total_cost"
   ]
  },
  {
   "attachments": {},
   "cell_type": "markdown",
   "metadata": {},
   "source": [
    "Using this code as a rough guide, create a new file report.py. In that file, define a function read_portfolio(filename) that opens a given portfolio file and reads it into a list of tuples. To do this, you’re going to make a few minor modifications to the above code.\n",
    "\n",
    "First, instead of defining total_cost = 0, you’ll make a variable that’s initially set to an empty list. For example:"
   ]
  },
  {
   "cell_type": "code",
   "execution_count": 61,
   "metadata": {},
   "outputs": [],
   "source": [
    "import csv\n",
    "\n",
    "def read_portfolio(filename):\n",
    "    # opens portfolio file \n",
    "    # reads into a list of tuples\n",
    "\n",
    "    portfolio = []\n",
    "\n",
    "    with open(filename, 'rt') as f:\n",
    "        rows = csv.reader(f)\n",
    "        headers = next(rows)\n",
    "        for row in rows:\n",
    "            # turn each row into a tuple\n",
    "            holding = (row[0], int(row[1]), float(row[2]))\n",
    "            portfolio.append(holding)\n",
    "    return portfolio"
   ]
  },
  {
   "attachments": {},
   "cell_type": "markdown",
   "metadata": {},
   "source": [
    "Instead of totaling up the cost, you’ll turn each row into a tuple exactly as you just did in the last exercise and append it to this list. Finally, you’ll return the resulting portfolio list.\n",
    "\n",
    "Experiment with your function interactively (just a reminder that in order to do this, you first have to run the report.py program in the interpreter):\n",
    "\n",
    "Hint: Use -i when executing the file in the terminal"
   ]
  },
  {
   "cell_type": "code",
   "execution_count": 64,
   "metadata": {},
   "outputs": [
    {
     "data": {
      "text/plain": [
       "[('AA', 100, 32.2),\n",
       " ('IBM', 50, 91.1),\n",
       " ('CAT', 150, 83.44),\n",
       " ('MSFT', 200, 51.23),\n",
       " ('GE', 95, 40.37),\n",
       " ('MSFT', 50, 65.1),\n",
       " ('IBM', 100, 70.44)]"
      ]
     },
     "execution_count": 64,
     "metadata": {},
     "output_type": "execute_result"
    }
   ],
   "source": [
    "portfolio = read_portfolio('Data/portfolio.csv')\n",
    "portfolio"
   ]
  },
  {
   "cell_type": "code",
   "execution_count": 65,
   "metadata": {},
   "outputs": [
    {
     "data": {
      "text/plain": [
       "('AA', 100, 32.2)"
      ]
     },
     "execution_count": 65,
     "metadata": {},
     "output_type": "execute_result"
    }
   ],
   "source": [
    "portfolio[0]"
   ]
  },
  {
   "cell_type": "code",
   "execution_count": 66,
   "metadata": {},
   "outputs": [
    {
     "data": {
      "text/plain": [
       "('IBM', 50, 91.1)"
      ]
     },
     "execution_count": 66,
     "metadata": {},
     "output_type": "execute_result"
    }
   ],
   "source": [
    "portfolio[1]"
   ]
  },
  {
   "cell_type": "code",
   "execution_count": 67,
   "metadata": {},
   "outputs": [
    {
     "data": {
      "text/plain": [
       "50"
      ]
     },
     "execution_count": 67,
     "metadata": {},
     "output_type": "execute_result"
    }
   ],
   "source": [
    "portfolio[1][1]"
   ]
  },
  {
   "cell_type": "code",
   "execution_count": 68,
   "metadata": {},
   "outputs": [],
   "source": [
    "total = 0.0\n",
    "\n",
    "for s in portfolio:\n",
    "    total += s[1] * s[2] # multiply index 1 and 2 values"
   ]
  },
  {
   "cell_type": "code",
   "execution_count": 69,
   "metadata": {},
   "outputs": [
    {
     "name": "stdout",
     "output_type": "stream",
     "text": [
      "44671.15\n"
     ]
    }
   ],
   "source": [
    "print(total)"
   ]
  },
  {
   "attachments": {},
   "cell_type": "markdown",
   "metadata": {},
   "source": [
    "This list of tuples that you have created is very similar to a 2-D array. For example, you can access a specific column and row using a lookup such as portfolio[row][column] where row and column are integers.\n",
    "\n",
    "That said, you can also rewrite the last for-loop using a statement like this:"
   ]
  },
  {
   "attachments": {},
   "cell_type": "markdown",
   "metadata": {},
   "source": [
    "**Exercise 2.5: List of Dictionaries**\n",
    "\n",
    "Take the function you wrote in Exercise 2.4 and modify to represent each stock in the portfolio with a dictionary instead of a tuple. In this dictionary use the field names of \"name\", \"shares\", and \"price\" to represent the different columns in the input file.\n",
    "\n",
    "Experiment with this new function in the same manner as you did in Exercise 2.4."
   ]
  },
  {
   "cell_type": "code",
   "execution_count": 32,
   "metadata": {},
   "outputs": [],
   "source": [
    "# report.py\n",
    "#\n",
    "# Exercise 2.4\n",
    "import csv\n",
    "\n",
    "def read_portfolio(filename):\n",
    "    # opens portfolio file \n",
    "    # reads into a dictionary\n",
    "\n",
    "    portfolio = []\n",
    "\n",
    "    with open(filename, 'rt') as f:\n",
    "        rows = csv.reader(f)\n",
    "        headers = next(rows)\n",
    "        for row in rows:            \n",
    "            holding = {\n",
    "                'name' : row[0], \n",
    "                'shares' : int(row[1]), \n",
    "                'price' : float(row[2])}\n",
    "\n",
    "            portfolio.append(holding)\n",
    "    return portfolio"
   ]
  },
  {
   "cell_type": "code",
   "execution_count": 35,
   "metadata": {},
   "outputs": [
    {
     "data": {
      "text/plain": [
       "[{'name': 'AA', 'shares': 100, 'price': 32.2},\n",
       " {'name': 'IBM', 'shares': 50, 'price': 91.1},\n",
       " {'name': 'CAT', 'shares': 150, 'price': 83.44},\n",
       " {'name': 'MSFT', 'shares': 200, 'price': 51.23},\n",
       " {'name': 'GE', 'shares': 95, 'price': 40.37},\n",
       " {'name': 'MSFT', 'shares': 50, 'price': 65.1},\n",
       " {'name': 'IBM', 'shares': 100, 'price': 70.44}]"
      ]
     },
     "execution_count": 35,
     "metadata": {},
     "output_type": "execute_result"
    }
   ],
   "source": [
    "portfolio = read_portfolio('Data\\portfolio.csv')\n",
    "portfolio"
   ]
  },
  {
   "cell_type": "code",
   "execution_count": 36,
   "metadata": {},
   "outputs": [
    {
     "data": {
      "text/plain": [
       "{'name': 'AA', 'shares': 100, 'price': 32.2}"
      ]
     },
     "execution_count": 36,
     "metadata": {},
     "output_type": "execute_result"
    }
   ],
   "source": [
    "portfolio[0]"
   ]
  },
  {
   "cell_type": "code",
   "execution_count": 37,
   "metadata": {},
   "outputs": [
    {
     "data": {
      "text/plain": [
       "{'name': 'IBM', 'shares': 50, 'price': 91.1}"
      ]
     },
     "execution_count": 37,
     "metadata": {},
     "output_type": "execute_result"
    }
   ],
   "source": [
    "portfolio[1]"
   ]
  },
  {
   "cell_type": "code",
   "execution_count": 38,
   "metadata": {},
   "outputs": [
    {
     "data": {
      "text/plain": [
       "50"
      ]
     },
     "execution_count": 38,
     "metadata": {},
     "output_type": "execute_result"
    }
   ],
   "source": [
    "portfolio[1]['shares']"
   ]
  },
  {
   "cell_type": "code",
   "execution_count": 39,
   "metadata": {},
   "outputs": [
    {
     "name": "stdout",
     "output_type": "stream",
     "text": [
      "44671.15\n"
     ]
    }
   ],
   "source": [
    "total = 0.0\n",
    "for s in portfolio:\n",
    "    total += s['shares']*s['price']\n",
    "\n",
    "print(total)"
   ]
  },
  {
   "attachments": {},
   "cell_type": "markdown",
   "metadata": {},
   "source": [
    "Here, you will notice that the different fields for each entry are accessed by key names instead of numeric column numbers. This is often preferred because the resulting code is easier to read later.\n",
    "\n",
    "Viewing large dictionaries and lists can be messy. To clean up the output for debugging, consider using the pprint function."
   ]
  },
  {
   "cell_type": "code",
   "execution_count": 40,
   "metadata": {},
   "outputs": [
    {
     "name": "stdout",
     "output_type": "stream",
     "text": [
      "[{'name': 'AA', 'price': 32.2, 'shares': 100},\n",
      " {'name': 'IBM', 'price': 91.1, 'shares': 50},\n",
      " {'name': 'CAT', 'price': 83.44, 'shares': 150},\n",
      " {'name': 'MSFT', 'price': 51.23, 'shares': 200},\n",
      " {'name': 'GE', 'price': 40.37, 'shares': 95},\n",
      " {'name': 'MSFT', 'price': 65.1, 'shares': 50},\n",
      " {'name': 'IBM', 'price': 70.44, 'shares': 100}]\n"
     ]
    }
   ],
   "source": [
    "from pprint import pprint\n",
    "pprint(portfolio)"
   ]
  },
  {
   "attachments": {},
   "cell_type": "markdown",
   "metadata": {},
   "source": [
    "**Exercise 2.6: Dictionaries as a container**\n",
    "\n",
    "A dictionary is a useful way to keep track of items where you want to look up items using an index other than an integer. In the Python shell, try playing with a dictionary:"
   ]
  },
  {
   "cell_type": "code",
   "execution_count": 41,
   "metadata": {},
   "outputs": [
    {
     "data": {
      "text/plain": [
       "{'IBM': 92.45, 'MSFT': 45.12}"
      ]
     },
     "execution_count": 41,
     "metadata": {},
     "output_type": "execute_result"
    }
   ],
   "source": [
    "prices = {}\n",
    "prices['IBM'] = 92.45\n",
    "prices['MSFT'] = 45.12\n",
    "prices"
   ]
  },
  {
   "cell_type": "code",
   "execution_count": 42,
   "metadata": {},
   "outputs": [
    {
     "data": {
      "text/plain": [
       "92.45"
      ]
     },
     "execution_count": 42,
     "metadata": {},
     "output_type": "execute_result"
    }
   ],
   "source": [
    "prices['IBM']"
   ]
  },
  {
   "cell_type": "code",
   "execution_count": 43,
   "metadata": {},
   "outputs": [
    {
     "ename": "KeyError",
     "evalue": "'AAPL'",
     "output_type": "error",
     "traceback": [
      "\u001b[1;31m---------------------------------------------------------------------------\u001b[0m",
      "\u001b[1;31mKeyError\u001b[0m                                  Traceback (most recent call last)",
      "\u001b[1;32mc:\\Users\\Fadinda Shafira\\Documents\\KALBE\\Python\\practical-python\\Work\\02_Working with Data\\2.2 Containers.ipynb Cell 72\u001b[0m in \u001b[0;36m<cell line: 1>\u001b[1;34m()\u001b[0m\n\u001b[1;32m----> <a href='vscode-notebook-cell:/c%3A/Users/Fadinda%20Shafira/Documents/KALBE/Python/practical-python/Work/02_Working%20with%20Data/2.2%20Containers.ipynb#Y131sZmlsZQ%3D%3D?line=0'>1</a>\u001b[0m prices[\u001b[39m'\u001b[39;49m\u001b[39mAAPL\u001b[39;49m\u001b[39m'\u001b[39;49m]\n",
      "\u001b[1;31mKeyError\u001b[0m: 'AAPL'"
     ]
    }
   ],
   "source": [
    "prices['AAPL']"
   ]
  },
  {
   "cell_type": "code",
   "execution_count": 44,
   "metadata": {},
   "outputs": [
    {
     "data": {
      "text/plain": [
       "False"
      ]
     },
     "execution_count": 44,
     "metadata": {},
     "output_type": "execute_result"
    }
   ],
   "source": [
    "'AAPL' in prices"
   ]
  },
  {
   "attachments": {},
   "cell_type": "markdown",
   "metadata": {},
   "source": [
    "The file Data/prices.csv contains a series of lines with stock prices. The file looks something like this:"
   ]
  },
  {
   "attachments": {},
   "cell_type": "markdown",
   "metadata": {},
   "source": [
    "\"AA\",9.22\n",
    "\"AXP\",24.85\n",
    "\"BA\",44.85\n",
    "\"BAC\",11.27\n",
    "\"C\",3.72\n",
    "..."
   ]
  },
  {
   "attachments": {},
   "cell_type": "markdown",
   "metadata": {},
   "source": [
    "Write a function read_prices(filename) that reads a set of prices such as this into a dictionary where the keys of the dictionary are the stock names and the values in the dictionary are the stock prices.\n",
    "\n",
    "To do this, start with an empty dictionary and start inserting values into it just as you did above. However, you are reading the values from a file now.\n",
    "\n",
    "We’ll use this data structure to quickly lookup the price of a given stock name.\n",
    "\n",
    "A few little tips that you’ll need for this part. First, make sure you use the csv module just as you did before—there’s no need to reinvent the wheel here."
   ]
  },
  {
   "cell_type": "code",
   "execution_count": 45,
   "metadata": {},
   "outputs": [
    {
     "name": "stdout",
     "output_type": "stream",
     "text": [
      "['AA', '9.22']\n",
      "['AXP', '24.85']\n",
      "['BA', '44.85']\n",
      "['BAC', '11.27']\n",
      "['C', '3.72']\n",
      "['CAT', '35.46']\n",
      "['CVX', '66.67']\n",
      "['DD', '28.47']\n",
      "['DIS', '24.22']\n",
      "['GE', '13.48']\n",
      "['GM', '0.75']\n",
      "['HD', '23.16']\n",
      "['HPQ', '34.35']\n",
      "['IBM', '106.28']\n",
      "['INTC', '15.72']\n",
      "['JNJ', '55.16']\n",
      "['JPM', '36.90']\n",
      "['KFT', '26.11']\n",
      "['KO', '49.16']\n",
      "['MCD', '58.99']\n",
      "['MMM', '57.10']\n",
      "['MRK', '27.58']\n",
      "['MSFT', '20.89']\n",
      "['PFE', '15.19']\n",
      "['PG', '51.94']\n",
      "['T', '24.79']\n",
      "['UTX', '52.61']\n",
      "['VZ', '29.26']\n",
      "['WMT', '49.74']\n",
      "['XOM', '69.35']\n",
      "[]\n"
     ]
    }
   ],
   "source": [
    "import csv\n",
    "f = open('Data\\prices.csv', 'r')\n",
    "rows = csv.reader(f)\n",
    "for row in rows:\n",
    "    print(row)"
   ]
  },
  {
   "cell_type": "code",
   "execution_count": 76,
   "metadata": {},
   "outputs": [],
   "source": [
    "def read_prices(filename):\n",
    "    prices = {}\n",
    "    \n",
    "    with open(filename, 'rt') as f:\n",
    "        rows = csv.reader(f)\n",
    "        headers = next(rows)\n",
    "        for row in rows:   \n",
    "            try:\n",
    "                prices[row[0]] = float(row[1]) # Create dict {stock name : stock price}\n",
    "\n",
    "            except IndexError:\n",
    "                print(\"Warning: Blank lines\", row)\n",
    "    \n",
    "    return prices"
   ]
  },
  {
   "cell_type": "code",
   "execution_count": 85,
   "metadata": {},
   "outputs": [
    {
     "name": "stdout",
     "output_type": "stream",
     "text": [
      "Warning: Blank lines []\n"
     ]
    },
    {
     "data": {
      "text/plain": [
       "{'AXP': 24.85,\n",
       " 'BA': 44.85,\n",
       " 'BAC': 11.27,\n",
       " 'C': 3.72,\n",
       " 'CAT': 35.46,\n",
       " 'CVX': 66.67,\n",
       " 'DD': 28.47,\n",
       " 'DIS': 24.22,\n",
       " 'GE': 13.48,\n",
       " 'GM': 0.75,\n",
       " 'HD': 23.16,\n",
       " 'HPQ': 34.35,\n",
       " 'IBM': 106.28,\n",
       " 'INTC': 15.72,\n",
       " 'JNJ': 55.16,\n",
       " 'JPM': 36.9,\n",
       " 'KFT': 26.11,\n",
       " 'KO': 49.16,\n",
       " 'MCD': 58.99,\n",
       " 'MMM': 57.1,\n",
       " 'MRK': 27.58,\n",
       " 'MSFT': 20.89,\n",
       " 'PFE': 15.19,\n",
       " 'PG': 51.94,\n",
       " 'T': 24.79,\n",
       " 'UTX': 52.61,\n",
       " 'VZ': 29.26,\n",
       " 'WMT': 49.74,\n",
       " 'XOM': 69.35}"
      ]
     },
     "execution_count": 85,
     "metadata": {},
     "output_type": "execute_result"
    }
   ],
   "source": [
    "read_prices('Data\\prices.csv')"
   ]
  },
  {
   "cell_type": "code",
   "execution_count": 86,
   "metadata": {},
   "outputs": [
    {
     "name": "stdout",
     "output_type": "stream",
     "text": [
      "Warning: Blank lines []\n"
     ]
    },
    {
     "data": {
      "text/plain": [
       "106.28"
      ]
     },
     "execution_count": 86,
     "metadata": {},
     "output_type": "execute_result"
    }
   ],
   "source": [
    "prices = read_prices('Data\\prices.csv')\n",
    "prices['IBM']"
   ]
  },
  {
   "attachments": {},
   "cell_type": "markdown",
   "metadata": {},
   "source": [
    "The other little complication is that the Data/prices.csv file may have some blank lines in it. Notice how the last row of data above is an empty list—meaning no data was present on that line.\n",
    "\n",
    "There’s a possibility that this could cause your program to die with an exception. Use the try and except statements to catch this as appropriate. Thought: would it be better to guard against bad data with an if-statement instead?\n",
    "\n",
    "Once you have written your read_prices() function, test it interactively to make sure it works:"
   ]
  },
  {
   "cell_type": "code",
   "execution_count": 87,
   "metadata": {},
   "outputs": [],
   "source": [
    "def read_prices(filename):\n",
    "    prices = {}\n",
    "    \n",
    "    with open(filename, 'rt') as f:\n",
    "        rows = csv.reader(f)\n",
    "        headers = next(rows)\n",
    "        for row in rows:   \n",
    "            if not row:\n",
    "                continue\n",
    "            prices[row[0]] = float(row[1])\n",
    "    return prices"
   ]
  },
  {
   "cell_type": "code",
   "execution_count": 88,
   "metadata": {},
   "outputs": [
    {
     "data": {
      "text/plain": [
       "{'AXP': 24.85,\n",
       " 'BA': 44.85,\n",
       " 'BAC': 11.27,\n",
       " 'C': 3.72,\n",
       " 'CAT': 35.46,\n",
       " 'CVX': 66.67,\n",
       " 'DD': 28.47,\n",
       " 'DIS': 24.22,\n",
       " 'GE': 13.48,\n",
       " 'GM': 0.75,\n",
       " 'HD': 23.16,\n",
       " 'HPQ': 34.35,\n",
       " 'IBM': 106.28,\n",
       " 'INTC': 15.72,\n",
       " 'JNJ': 55.16,\n",
       " 'JPM': 36.9,\n",
       " 'KFT': 26.11,\n",
       " 'KO': 49.16,\n",
       " 'MCD': 58.99,\n",
       " 'MMM': 57.1,\n",
       " 'MRK': 27.58,\n",
       " 'MSFT': 20.89,\n",
       " 'PFE': 15.19,\n",
       " 'PG': 51.94,\n",
       " 'T': 24.79,\n",
       " 'UTX': 52.61,\n",
       " 'VZ': 29.26,\n",
       " 'WMT': 49.74,\n",
       " 'XOM': 69.35}"
      ]
     },
     "execution_count": 88,
     "metadata": {},
     "output_type": "execute_result"
    }
   ],
   "source": [
    "read_prices('Data\\prices.csv')"
   ]
  },
  {
   "cell_type": "code",
   "execution_count": 89,
   "metadata": {},
   "outputs": [
    {
     "data": {
      "text/plain": [
       "20.89"
      ]
     },
     "execution_count": 89,
     "metadata": {},
     "output_type": "execute_result"
    }
   ],
   "source": [
    "prices = read_prices('Data/prices.csv')\n",
    "prices['MSFT']"
   ]
  },
  {
   "attachments": {},
   "cell_type": "markdown",
   "metadata": {},
   "source": [
    "**Exercise 2.7: Finding out if you can retire**\n",
    "\n",
    "Tie all of this work together by adding a few additional statements to your report.py program that computes gain/loss. These statements should take the list of stocks in Exercise 2.5 and the dictionary of prices in Exercise 2.6 and compute the current value of the portfolio along with the gain/loss."
   ]
  }
 ],
 "metadata": {
  "kernelspec": {
   "display_name": "Python 3",
   "language": "python",
   "name": "python3"
  },
  "language_info": {
   "codemirror_mode": {
    "name": "ipython",
    "version": 3
   },
   "file_extension": ".py",
   "mimetype": "text/x-python",
   "name": "python",
   "nbconvert_exporter": "python",
   "pygments_lexer": "ipython3",
   "version": "3.9.13"
  },
  "orig_nbformat": 4
 },
 "nbformat": 4,
 "nbformat_minor": 2
}
