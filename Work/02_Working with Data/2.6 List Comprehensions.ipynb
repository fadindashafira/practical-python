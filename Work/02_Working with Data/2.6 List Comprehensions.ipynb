{
 "cells": [
  {
   "attachments": {},
   "cell_type": "markdown",
   "metadata": {},
   "source": [
    "# 2.6 List Comprehensions\n",
    "\n",
    "A common task is processing items in a list. This section introduces list comprehensions, a powerful tool for doing just that.\n",
    "\n",
    "**Creating new lists**\n",
    "\n",
    "A list comprehension creates a new list by applying an operation to each element of a sequence."
   ]
  },
  {
   "cell_type": "code",
   "execution_count": 1,
   "metadata": {},
   "outputs": [
    {
     "data": {
      "text/plain": [
       "[2, 4, 6, 8, 10]"
      ]
     },
     "execution_count": 1,
     "metadata": {},
     "output_type": "execute_result"
    }
   ],
   "source": [
    "a = [1,2,3,4,5]\n",
    "b = [2*x for x in a]\n",
    "b"
   ]
  },
  {
   "attachments": {},
   "cell_type": "markdown",
   "metadata": {},
   "source": [
    "Another example:"
   ]
  },
  {
   "cell_type": "code",
   "execution_count": 2,
   "metadata": {},
   "outputs": [
    {
     "data": {
      "text/plain": [
       "['elwood', 'jake']"
      ]
     },
     "execution_count": 2,
     "metadata": {},
     "output_type": "execute_result"
    }
   ],
   "source": [
    "names = ['Elwood', 'Jake']\n",
    "a = [name.lower() for name in names]\n",
    "a"
   ]
  },
  {
   "attachments": {},
   "cell_type": "markdown",
   "metadata": {},
   "source": [
    "The general syntax is:\n",
    "\n",
    "`[ <expression> for <variable_name> in <sequence> ].`"
   ]
  },
  {
   "attachments": {},
   "cell_type": "markdown",
   "metadata": {},
   "source": [
    "**Filtering**\n",
    "\n",
    "You can also filter during the list comprehension."
   ]
  },
  {
   "cell_type": "code",
   "execution_count": 3,
   "metadata": {},
   "outputs": [
    {
     "data": {
      "text/plain": [
       "[2, 8, 4, 20]"
      ]
     },
     "execution_count": 3,
     "metadata": {},
     "output_type": "execute_result"
    }
   ],
   "source": [
    "a = [1, -5, 4, 2, -2, 10]\n",
    "b = [2*x for x in a if x > 0]\n",
    "b"
   ]
  },
  {
   "attachments": {},
   "cell_type": "markdown",
   "metadata": {},
   "source": [
    "**Use cases**\n",
    "\n",
    "List comprehensions are hugely useful. For example, you can collect values of a specific dictionary fields:"
   ]
  },
  {
   "attachments": {},
   "cell_type": "markdown",
   "metadata": {},
   "source": [
    "stocknames = [s['name'] for s in stocks]"
   ]
  },
  {
   "attachments": {},
   "cell_type": "markdown",
   "metadata": {},
   "source": [
    "You can perform database-like queries on sequences."
   ]
  },
  {
   "cell_type": "code",
   "execution_count": null,
   "metadata": {},
   "outputs": [],
   "source": [
    "a = [s for s in stocks if s['price'] > 100 and s['shares'] > 50 ]"
   ]
  },
  {
   "attachments": {},
   "cell_type": "markdown",
   "metadata": {},
   "source": [
    "You can also combine a list comprehension with a sequence reduction:"
   ]
  },
  {
   "cell_type": "code",
   "execution_count": null,
   "metadata": {},
   "outputs": [],
   "source": [
    "cost = sum([s['shares']*s['price'] for s in stocks])"
   ]
  },
  {
   "attachments": {},
   "cell_type": "markdown",
   "metadata": {},
   "source": [
    "**General Syntax**"
   ]
  },
  {
   "attachments": {},
   "cell_type": "markdown",
   "metadata": {},
   "source": [
    "`[ <expression> for <variable_name> in <sequence> if <condition>]`"
   ]
  },
  {
   "attachments": {},
   "cell_type": "markdown",
   "metadata": {},
   "source": [
    "What it means:"
   ]
  },
  {
   "cell_type": "code",
   "execution_count": null,
   "metadata": {},
   "outputs": [],
   "source": [
    "result = []\n",
    "for variable_name in sequence:\n",
    "    if condition:\n",
    "        result.append(expression)"
   ]
  },
  {
   "attachments": {},
   "cell_type": "markdown",
   "metadata": {},
   "source": [
    "**Historical Digression**\n",
    "\n",
    "List comprehensions come from math (set-builder notation)."
   ]
  },
  {
   "attachments": {},
   "cell_type": "markdown",
   "metadata": {},
   "source": [
    "a = [ x * x for x in s if x > 0 ] # Python\n",
    "\n",
    "a = { x^2 | x ∈ s, x > 0 }         # Math"
   ]
  },
  {
   "attachments": {},
   "cell_type": "markdown",
   "metadata": {},
   "source": [
    "It is also implemented in several other languages. Most coders probably aren't thinking about their math class though. So, it's fine to view it as a cool list shortcut."
   ]
  },
  {
   "attachments": {},
   "cell_type": "markdown",
   "metadata": {},
   "source": [
    "## Exercises\n",
    "\n",
    "Start by running your report.py program so that you have the portfolio of stocks loaded in the interactive mode."
   ]
  },
  {
   "attachments": {},
   "cell_type": "markdown",
   "metadata": {},
   "source": [
    "Now, at the Python interactive prompt, type statements to perform the operations described below. These operations perform various kinds of data reductions, transforms, and queries on the portfolio data.\n",
    "\n",
    "**Exercise 2.19: List comprehensions**\n",
    "\n",
    "Try a few simple list comprehensions just to become familiar with the syntax."
   ]
  },
  {
   "cell_type": "code",
   "execution_count": 5,
   "metadata": {},
   "outputs": [
    {
     "data": {
      "text/plain": [
       "[1, 4, 9, 16]"
      ]
     },
     "execution_count": 5,
     "metadata": {},
     "output_type": "execute_result"
    }
   ],
   "source": [
    "nums = [1,2,3,4]\n",
    "squares = [x*x for x in nums]\n",
    "squares"
   ]
  },
  {
   "cell_type": "code",
   "execution_count": 6,
   "metadata": {},
   "outputs": [
    {
     "data": {
      "text/plain": [
       "[6, 8]"
      ]
     },
     "execution_count": 6,
     "metadata": {},
     "output_type": "execute_result"
    }
   ],
   "source": [
    "twice = [2*x for x in nums if x > 2]\n",
    "twice"
   ]
  },
  {
   "attachments": {},
   "cell_type": "markdown",
   "metadata": {},
   "source": [
    "Notice how the list comprehensions are creating a new list with the data suitably transformed or filtered."
   ]
  },
  {
   "attachments": {},
   "cell_type": "markdown",
   "metadata": {},
   "source": [
    "**Exercise 2.20: Sequence Reductions**\n",
    "\n",
    "Compute the total cost of the portfolio using a single Python statement."
   ]
  },
  {
   "cell_type": "code",
   "execution_count": 6,
   "metadata": {},
   "outputs": [],
   "source": [
    "import csv\n",
    "\n",
    "def read_portfolio(filename):\n",
    "\n",
    "    '''\n",
    "    Read a stock portfolio file into a list of dictionaries with keys :\n",
    "    name, shares, and price\n",
    "    '''\n",
    "\n",
    "    portfolio = []\n",
    "\n",
    "    with open(filename, 'rt') as f:\n",
    "        rows = csv.reader(f)\n",
    "        headers = next(rows)\n",
    "        # print(headers)\n",
    "        # for row in rows:\n",
    "        #     record = dict(zip(headers, row))\n",
    "        #     name = record['name']\n",
    "        #     nshares = int(record['shares'])\n",
    "        #     price = float(record['price'])\n",
    "\n",
    "        for row in rows:            \n",
    "            stock = {\n",
    "                'name' : row[0], \n",
    "                'shares' : int(row[1]), \n",
    "                'price' : float(row[2])}\n",
    "            portfolio.append(stock)\n",
    "            # portfolio.append(name)\n",
    "            # portfolio.append(nshares)\n",
    "            # portfolio.append(price)\n",
    "            # print(portfolio)\n",
    "    return portfolio\n",
    "\n",
    "def read_prices(filename):\n",
    "    \n",
    "    '''\n",
    "    Read a CSV file of price data into a dict mapping names to prices\n",
    "    '''\n",
    "    prices = {}\n",
    "\n",
    "    with open(filename, 'rt') as f:\n",
    "        rows = csv.reader(f)\n",
    "        for row in rows:   \n",
    "            try:\n",
    "                prices[row[0]] = float(row[1])\n",
    "            except IndexError:\n",
    "                pass\n",
    "    return prices\n",
    "\n",
    "def make_report(portfolio, prices):\n",
    "    \"\"\"\n",
    "    Takes a list of stocks and dictionary of prices as input\n",
    "    returns a list of tuples containing the rows of table (name, shares, price, change)\n",
    "    \"\"\"\n",
    "\n",
    "    rows = []\n",
    "\n",
    "    for stock in portfolio:\n",
    "        current_price = prices[stock['name']] # Current price is from prices.csv file, choose the price of stock name in portfolio.csv\n",
    "        change = current_price - stock['price'] # Calculate change from current_price - price in portfolio.csv\n",
    "        summary = (stock['name'], stock['shares'], current_price, change)\n",
    "        rows.append(summary)\n",
    "    \n",
    "    return rows\n",
    "\n",
    "# Read data files and create the report data        \n",
    "\n",
    "portfolio = read_portfolio('Data\\portfolio.csv')\n",
    "prices = read_prices('Data\\prices.csv')"
   ]
  },
  {
   "cell_type": "code",
   "execution_count": 4,
   "metadata": {},
   "outputs": [],
   "source": [
    "import os\n",
    "os.chdir(r\"C:\\Users\\Fadinda Shafira\\Documents\\KALBE\\Python\\practical-python\\Work\")"
   ]
  },
  {
   "cell_type": "code",
   "execution_count": 7,
   "metadata": {},
   "outputs": [
    {
     "data": {
      "text/plain": [
       "44671.15"
      ]
     },
     "execution_count": 7,
     "metadata": {},
     "output_type": "execute_result"
    }
   ],
   "source": [
    "portfolio = read_portfolio('Data\\portfolio.csv')\n",
    "cost = sum([s['shares'] * s['price'] for s in portfolio])\n",
    "cost"
   ]
  },
  {
   "attachments": {},
   "cell_type": "markdown",
   "metadata": {},
   "source": [
    "After you have done that, show how you can compute the current value of the portfolio using a single statement."
   ]
  },
  {
   "cell_type": "code",
   "execution_count": 13,
   "metadata": {},
   "outputs": [
    {
     "data": {
      "text/plain": [
       "28686.1"
      ]
     },
     "execution_count": 13,
     "metadata": {},
     "output_type": "execute_result"
    }
   ],
   "source": [
    "value = sum([ s['shares'] * prices[s['name']] for s in portfolio])\n",
    "value"
   ]
  },
  {
   "attachments": {},
   "cell_type": "markdown",
   "metadata": {},
   "source": [
    "Both of the above operations are an example of a map-reduction. The list comprehension is mapping an operation across the list."
   ]
  },
  {
   "cell_type": "code",
   "execution_count": 14,
   "metadata": {},
   "outputs": [
    {
     "data": {
      "text/plain": [
       "[3220.0000000000005,\n",
       " 4555.0,\n",
       " 12516.0,\n",
       " 10246.0,\n",
       " 3835.1499999999996,\n",
       " 3254.9999999999995,\n",
       " 7044.0]"
      ]
     },
     "execution_count": 14,
     "metadata": {},
     "output_type": "execute_result"
    }
   ],
   "source": [
    "[s['shares'] * s['price'] for s in portfolio]"
   ]
  },
  {
   "attachments": {},
   "cell_type": "markdown",
   "metadata": {},
   "source": [
    "The sum() function is then performing a reduction across the result:"
   ]
  },
  {
   "cell_type": "code",
   "execution_count": 15,
   "metadata": {},
   "outputs": [
    {
     "data": {
      "text/plain": [
       "44671.15"
      ]
     },
     "execution_count": 15,
     "metadata": {},
     "output_type": "execute_result"
    }
   ],
   "source": [
    "sum(_)"
   ]
  },
  {
   "attachments": {},
   "cell_type": "markdown",
   "metadata": {},
   "source": [
    "With this knowledge, you are now ready to go launch a big-data startup company.\n",
    "\n",
    "**Exercise 2.21: Data Queries**\n",
    "\n",
    "Try the following examples of various data queries.\n",
    "\n",
    "First, a list of all portfolio holdings with more than 100 shares."
   ]
  },
  {
   "cell_type": "code",
   "execution_count": 22,
   "metadata": {},
   "outputs": [
    {
     "data": {
      "text/plain": [
       "[{'name': 'CAT', 'shares': 150, 'price': 83.44},\n",
       " {'name': 'MSFT', 'shares': 200, 'price': 51.23}]"
      ]
     },
     "execution_count": 22,
     "metadata": {},
     "output_type": "execute_result"
    }
   ],
   "source": [
    "more100 = [s for s in portfolio if s['shares'] > 100]\n",
    "more100"
   ]
  },
  {
   "attachments": {},
   "cell_type": "markdown",
   "metadata": {},
   "source": [
    "All portfolio holdings for MSFT and IBM stocks"
   ]
  },
  {
   "cell_type": "code",
   "execution_count": 11,
   "metadata": {},
   "outputs": [
    {
     "data": {
      "text/plain": [
       "[{'name': 'IBM', 'shares': 50, 'price': 91.1},\n",
       " {'name': 'MSFT', 'shares': 200, 'price': 51.23},\n",
       " {'name': 'MSFT', 'shares': 50, 'price': 65.1},\n",
       " {'name': 'IBM', 'shares': 100, 'price': 70.44}]"
      ]
     },
     "execution_count": 11,
     "metadata": {},
     "output_type": "execute_result"
    }
   ],
   "source": [
    "x = [s for s in portfolio if s['name'] == 'MSFT' or s['name'] == 'IBM']\n",
    "x"
   ]
  },
  {
   "cell_type": "code",
   "execution_count": 12,
   "metadata": {},
   "outputs": [
    {
     "data": {
      "text/plain": [
       "[{'name': 'IBM', 'shares': 50, 'price': 91.1},\n",
       " {'name': 'MSFT', 'shares': 200, 'price': 51.23},\n",
       " {'name': 'MSFT', 'shares': 50, 'price': 65.1},\n",
       " {'name': 'IBM', 'shares': 100, 'price': 70.44}]"
      ]
     },
     "execution_count": 12,
     "metadata": {},
     "output_type": "execute_result"
    }
   ],
   "source": [
    "msfitbm = [ s for s in portfolio if s['name'] in {'MSFT', 'IBM'}]\n",
    "msfitbm"
   ]
  },
  {
   "attachments": {},
   "cell_type": "markdown",
   "metadata": {},
   "source": [
    "A list of all portfolio holdings that cost more than $10000."
   ]
  },
  {
   "cell_type": "code",
   "execution_count": 14,
   "metadata": {},
   "outputs": [
    {
     "data": {
      "text/plain": [
       "[{'name': 'CAT', 'shares': 150, 'price': 83.44},\n",
       " {'name': 'MSFT', 'shares': 200, 'price': 51.23}]"
      ]
     },
     "execution_count": 14,
     "metadata": {},
     "output_type": "execute_result"
    }
   ],
   "source": [
    "costmore10000 = [s for s in portfolio if s['price'] * s['shares'] > 10000]\n",
    "costmore10000"
   ]
  },
  {
   "attachments": {},
   "cell_type": "markdown",
   "metadata": {},
   "source": [
    "**Exercise 2.22: Data Extraction**\n",
    "\n",
    "Show how you could build a list of tuples (name, shares) where name and shares are taken from portfolio."
   ]
  },
  {
   "cell_type": "code",
   "execution_count": 15,
   "metadata": {},
   "outputs": [
    {
     "data": {
      "text/plain": [
       "[('AA', 100),\n",
       " ('IBM', 50),\n",
       " ('CAT', 150),\n",
       " ('MSFT', 200),\n",
       " ('GE', 95),\n",
       " ('MSFT', 50),\n",
       " ('IBM', 100)]"
      ]
     },
     "execution_count": 15,
     "metadata": {},
     "output_type": "execute_result"
    }
   ],
   "source": [
    "name_shares = [ (s['name'], s['shares']) for s in portfolio]\n",
    "name_shares"
   ]
  },
  {
   "attachments": {},
   "cell_type": "markdown",
   "metadata": {},
   "source": [
    "If you change the square brackets ([,]) to curly braces ({, }), you get something known as a set comprehension. This gives you unique or distinct values.\n",
    "\n",
    "For example, this determines the set of unique stock names that appear in portfolio:"
   ]
  },
  {
   "cell_type": "code",
   "execution_count": 18,
   "metadata": {},
   "outputs": [
    {
     "data": {
      "text/plain": [
       "{'AA', 'CAT', 'GE', 'IBM', 'MSFT'}"
      ]
     },
     "execution_count": 18,
     "metadata": {},
     "output_type": "execute_result"
    }
   ],
   "source": [
    "uniquenames = { s['name'] for s in portfolio}\n",
    "uniquenames"
   ]
  },
  {
   "attachments": {},
   "cell_type": "markdown",
   "metadata": {},
   "source": [
    "If you specify key:value pairs, you can build a dictionary. For example, make a dictionary that maps the name of a stock to the total number of shares held."
   ]
  },
  {
   "cell_type": "code",
   "execution_count": 27,
   "metadata": {},
   "outputs": [
    {
     "data": {
      "text/plain": [
       "{'IBM': 0, 'CAT': 0, 'MSFT': 0, 'AA': 0, 'GE': 0}"
      ]
     },
     "execution_count": 27,
     "metadata": {},
     "output_type": "execute_result"
    }
   ],
   "source": [
    "holdings = { name: 0 for name in uniquenames}\n",
    "holdings"
   ]
  },
  {
   "attachments": {},
   "cell_type": "markdown",
   "metadata": {},
   "source": [
    "This latter feature is known as a dictionary comprehension. Let’s tabulate:"
   ]
  },
  {
   "cell_type": "code",
   "execution_count": 25,
   "metadata": {},
   "outputs": [
    {
     "data": {
      "text/plain": [
       "{'IBM': 150, 'CAT': 150, 'MSFT': 250, 'AA': 100, 'GE': 95}"
      ]
     },
     "execution_count": 25,
     "metadata": {},
     "output_type": "execute_result"
    }
   ],
   "source": [
    "for s in portfolio:\n",
    "    holdings[s['name']] += s['shares']\n",
    "\n",
    "holdings"
   ]
  },
  {
   "attachments": {},
   "cell_type": "markdown",
   "metadata": {},
   "source": [
    "Try this example that filters the prices dictionary down to only those names that appear in the portfolio:"
   ]
  },
  {
   "cell_type": "code",
   "execution_count": 28,
   "metadata": {},
   "outputs": [
    {
     "data": {
      "text/plain": [
       "{'IBM': 106.28, 'CAT': 35.46, 'MSFT': 20.89, 'AA': 9.22, 'GE': 13.48}"
      ]
     },
     "execution_count": 28,
     "metadata": {},
     "output_type": "execute_result"
    }
   ],
   "source": [
    "portfolio_prices = { name: prices[name] for name in uniquenames}\n",
    "portfolio_prices"
   ]
  },
  {
   "attachments": {},
   "cell_type": "markdown",
   "metadata": {},
   "source": [
    "**Exercise 2.23: Extracting Data From CSV Files**\n",
    "\n",
    "Knowing how to use various combinations of list, set, and dictionary comprehensions can be useful in various forms of data processing. Here’s an example that shows how to extract selected columns from a CSV file.\n",
    "\n",
    "First, read a row of header information from a CSV file:"
   ]
  },
  {
   "cell_type": "code",
   "execution_count": 29,
   "metadata": {},
   "outputs": [
    {
     "data": {
      "text/plain": [
       "['name', 'date', 'time', 'shares', 'price']"
      ]
     },
     "execution_count": 29,
     "metadata": {},
     "output_type": "execute_result"
    }
   ],
   "source": [
    "# Task: Read a row of header information from a CSV file\n",
    "\n",
    "import csv\n",
    "\n",
    "f = open('Data\\portfoliodate.csv')\n",
    "rows = csv.reader(f)\n",
    "headers = next(rows)\n",
    "headers"
   ]
  },
  {
   "attachments": {},
   "cell_type": "markdown",
   "metadata": {},
   "source": [
    "Next, define a variable that lists the columns that you actually care about:"
   ]
  },
  {
   "cell_type": "code",
   "execution_count": 30,
   "metadata": {},
   "outputs": [],
   "source": [
    "# Create a variable contain lists of selected CSV columns\n",
    "select = ['name', 'shares', 'price']"
   ]
  },
  {
   "attachments": {},
   "cell_type": "markdown",
   "metadata": {},
   "source": [
    "Now, locate the indices of the above columns in the source CSV file:"
   ]
  },
  {
   "cell_type": "code",
   "execution_count": 31,
   "metadata": {},
   "outputs": [
    {
     "data": {
      "text/plain": [
       "[0, 3, 4]"
      ]
     },
     "execution_count": 31,
     "metadata": {},
     "output_type": "execute_result"
    }
   ],
   "source": [
    "indices = [ headers.index(colname) for colname in select ]\n",
    "indices"
   ]
  },
  {
   "attachments": {},
   "cell_type": "markdown",
   "metadata": {},
   "source": [
    "Finally, read a row of data and turn it into a dictionary using a dictionary comprehension:"
   ]
  },
  {
   "cell_type": "code",
   "execution_count": 32,
   "metadata": {},
   "outputs": [
    {
     "data": {
      "text/plain": [
       "{'name': 'AA', 'shares': '100', 'price': '32.20'}"
      ]
     },
     "execution_count": 32,
     "metadata": {},
     "output_type": "execute_result"
    }
   ],
   "source": [
    "row = next(rows)\n",
    "record = {colname: row[index] for colname, index in zip(select, indices)} # dict-comprehension\n",
    "record"
   ]
  },
  {
   "attachments": {},
   "cell_type": "markdown",
   "metadata": {},
   "source": [
    "If you’re feeling comfortable with what just happened, read the rest of the file:"
   ]
  },
  {
   "cell_type": "code",
   "execution_count": 33,
   "metadata": {},
   "outputs": [
    {
     "data": {
      "text/plain": [
       "[{'name': 'IBM', 'shares': '50', 'price': '91.10'},\n",
       " {'name': 'CAT', 'shares': '150', 'price': '83.44'},\n",
       " {'name': 'MSFT', 'shares': '200', 'price': '51.23'},\n",
       " {'name': 'GE', 'shares': '95', 'price': '40.37'},\n",
       " {'name': 'MSFT', 'shares': '50', 'price': '65.10'},\n",
       " {'name': 'IBM', 'shares': '100', 'price': '70.44'}]"
      ]
     },
     "execution_count": 33,
     "metadata": {},
     "output_type": "execute_result"
    }
   ],
   "source": [
    "portfolio = [ { colname: row[index] for colname, index in zip(select, indices) } for row in rows ]\n",
    "portfolio"
   ]
  }
 ],
 "metadata": {
  "kernelspec": {
   "display_name": "Python 3",
   "language": "python",
   "name": "python3"
  },
  "language_info": {
   "codemirror_mode": {
    "name": "ipython",
    "version": 3
   },
   "file_extension": ".py",
   "mimetype": "text/x-python",
   "name": "python",
   "nbconvert_exporter": "python",
   "pygments_lexer": "ipython3",
   "version": "3.9.13"
  },
  "orig_nbformat": 4
 },
 "nbformat": 4,
 "nbformat_minor": 2
}
