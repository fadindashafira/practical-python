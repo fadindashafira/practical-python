{
 "cells": [
  {
   "attachments": {},
   "cell_type": "markdown",
   "metadata": {},
   "source": [
    "# 2.5 Collections module\n",
    "\n",
    "The collections module provides a number of useful objects for data handling. This part briefly introduces some of these features.\n",
    "\n",
    "**Example: Counting Things**\n",
    "\n",
    "Let's say you want to tabulate the total shares of each stock."
   ]
  },
  {
   "cell_type": "code",
   "execution_count": 2,
   "metadata": {},
   "outputs": [],
   "source": [
    "portfolio = [\n",
    "    ('GOOG', 100, 490.1),\n",
    "    ('IBM', 50, 91.1),\n",
    "    ('CAT', 150, 83.44),\n",
    "    ('IBM', 100, 45.23),\n",
    "    ('GOOG', 75, 572.45),\n",
    "    ('AA', 50, 23.15)\n",
    "]"
   ]
  },
  {
   "attachments": {},
   "cell_type": "markdown",
   "metadata": {},
   "source": [
    "There are two IBM entries and two GOOG entries in this list. The shares need to be combined together somehow."
   ]
  },
  {
   "attachments": {},
   "cell_type": "markdown",
   "metadata": {},
   "source": [
    "**Counters**\n",
    "\n",
    "Solution: Use a `Counter`\n",
    "It is a collection where elements are stored as dictionary keys and their counts are stored as dictionary values."
   ]
  },
  {
   "cell_type": "code",
   "execution_count": 7,
   "metadata": {},
   "outputs": [],
   "source": [
    "from collections import Counter\n",
    "total_shares = Counter()\n",
    "total_price = Counter()\n",
    "\n",
    "for name,shares,price in portfolio:\n",
    "    total_shares[name] += shares\n",
    "    total_price[name] += price"
   ]
  },
  {
   "cell_type": "code",
   "execution_count": 9,
   "metadata": {},
   "outputs": [
    {
     "data": {
      "text/plain": [
       "150"
      ]
     },
     "execution_count": 9,
     "metadata": {},
     "output_type": "execute_result"
    }
   ],
   "source": [
    "total_shares['IBM']"
   ]
  },
  {
   "cell_type": "code",
   "execution_count": 8,
   "metadata": {},
   "outputs": [
    {
     "data": {
      "text/plain": [
       "136.32999999999998"
      ]
     },
     "execution_count": 8,
     "metadata": {},
     "output_type": "execute_result"
    }
   ],
   "source": [
    "total_price['IBM']"
   ]
  },
  {
   "attachments": {},
   "cell_type": "markdown",
   "metadata": {},
   "source": [
    "**Example: One-Many Mappings**\n",
    "\n",
    "Problem: You want to map a key to multiple values."
   ]
  },
  {
   "cell_type": "code",
   "execution_count": 10,
   "metadata": {},
   "outputs": [],
   "source": [
    "portfolio = [\n",
    "    ('GOOG', 100, 490.1),\n",
    "    ('IBM', 50, 91.1),\n",
    "    ('CAT', 150, 83.44),\n",
    "    ('IBM', 100, 45.23),\n",
    "    ('GOOG', 75, 572.45),\n",
    "    ('AA', 50, 23.15)\n",
    "]"
   ]
  },
  {
   "attachments": {},
   "cell_type": "markdown",
   "metadata": {},
   "source": [
    "Like in the previous example, the key IBM should have two different tuples instead.\n",
    "\n",
    "Solution: Use a defaultdict."
   ]
  },
  {
   "cell_type": "code",
   "execution_count": 11,
   "metadata": {},
   "outputs": [],
   "source": [
    "from collections import defaultdict \n",
    "holdings = defaultdict(list) # Return a new dictionary-like object.\n",
    "for name, shares, price in portfolio:\n",
    "    holdings[name].append((shares,price))\n"
   ]
  },
  {
   "cell_type": "code",
   "execution_count": 15,
   "metadata": {},
   "outputs": [
    {
     "data": {
      "text/plain": [
       "[(100, 490.1), (75, 572.45)]"
      ]
     },
     "execution_count": 15,
     "metadata": {},
     "output_type": "execute_result"
    }
   ],
   "source": [
    "holdings['GOOG']"
   ]
  },
  {
   "attachments": {},
   "cell_type": "markdown",
   "metadata": {},
   "source": [
    "The defaultdict ensures that every time you access a key you get a default value."
   ]
  },
  {
   "attachments": {},
   "cell_type": "markdown",
   "metadata": {},
   "source": [
    "**Example: Keeping a History**\n",
    "\n",
    "Problem: We want a history of the last N things. Solution: Use a deque.\n",
    "\n",
    "Returns a new deque object initialized left-to-right (using append()) with data from iterable. List-like container with fast appends and pops on either end"
   ]
  },
  {
   "cell_type": "code",
   "execution_count": null,
   "metadata": {},
   "outputs": [],
   "source": [
    "from collections import deque\n",
    "\n",
    "history = deque(maxlen=N)\n",
    "with open(filename) as f:\n",
    "    for line in f:\n",
    "        history.append(line)\n",
    "        ..."
   ]
  },
  {
   "attachments": {},
   "cell_type": "markdown",
   "metadata": {},
   "source": [
    "## Exercises"
   ]
  },
  {
   "attachments": {},
   "cell_type": "markdown",
   "metadata": {},
   "source": [
    "The collections module might be one of the most useful library modules for dealing with special purpose kinds of data handling problems such as tabulating and indexing.\n",
    "\n",
    "In this exercise, we’ll look at a few simple examples. Start by running your report.py program so that you have the portfolio of stocks loaded in the interactive mode."
   ]
  },
  {
   "cell_type": "code",
   "execution_count": 19,
   "metadata": {},
   "outputs": [],
   "source": [
    "import os\n",
    "os.chdir(r\"C:\\Users\\Fadinda Shafira\\Documents\\KALBE\\Python\\practical-python\\Work\")"
   ]
  },
  {
   "cell_type": "code",
   "execution_count": 20,
   "metadata": {},
   "outputs": [
    {
     "name": "stdout",
     "output_type": "stream",
     "text": [
      "      Name     Shares      Price     Change\n",
      "---------- ---------- ---------- ----------\n",
      "        AA        100       9.22     -22.98\n",
      "       IBM         50     106.28      15.18\n",
      "       CAT        150      35.46     -47.98\n",
      "      MSFT        200      20.89     -30.34\n",
      "        GE         95      13.48     -26.89\n",
      "      MSFT         50      20.89     -44.21\n",
      "       IBM        100     106.28      35.84\n"
     ]
    }
   ],
   "source": [
    "import csv\n",
    "\n",
    "def read_portfolio(filename):\n",
    "\n",
    "    '''\n",
    "    Read a stock portfolio file into a list of dictionaries with keys :\n",
    "    name, shares, and price\n",
    "    '''\n",
    "\n",
    "    portfolio = []\n",
    "\n",
    "    with open(filename, 'rt') as f:\n",
    "        rows = csv.reader(f)\n",
    "        headers = next(rows)\n",
    "        # print(headers)\n",
    "        # for row in rows:\n",
    "        #     record = dict(zip(headers, row))\n",
    "        #     name = record['name']\n",
    "        #     nshares = int(record['shares'])\n",
    "        #     price = float(record['price'])\n",
    "\n",
    "        for row in rows:            \n",
    "            stock = {\n",
    "                'name' : row[0], \n",
    "                'shares' : int(row[1]), \n",
    "                'price' : float(row[2])}\n",
    "            portfolio.append(stock)\n",
    "            # portfolio.append(name)\n",
    "            # portfolio.append(nshares)\n",
    "            # portfolio.append(price)\n",
    "            # print(portfolio)\n",
    "    return portfolio\n",
    "\n",
    "def read_prices(filename):\n",
    "    \n",
    "    '''\n",
    "    Read a CSV file of price data into a dict mapping names to prices\n",
    "    '''\n",
    "    prices = {}\n",
    "\n",
    "    with open(filename, 'rt') as f:\n",
    "        rows = csv.reader(f)\n",
    "        for row in rows:   \n",
    "            try:\n",
    "                prices[row[0]] = float(row[1])\n",
    "            except IndexError:\n",
    "                pass\n",
    "    return prices\n",
    "\n",
    "def make_report(portfolio, prices):\n",
    "    \"\"\"\n",
    "    Takes a list of stocks and dictionary of prices as input\n",
    "    returns a list of tuples containing the rows of table (name, shares, price, change)\n",
    "    \"\"\"\n",
    "\n",
    "    rows = []\n",
    "\n",
    "    for stock in portfolio:\n",
    "        current_price = prices[stock['name']] # Current price is from prices.csv file, choose the price of stock name in portfolio.csv\n",
    "        change = current_price - stock['price'] # Calculate change from current_price - price in portfolio.csv\n",
    "        summary = (stock['name'], stock['shares'], current_price, change)\n",
    "        rows.append(summary)\n",
    "        \n",
    "    # for stock in portfolio:\n",
    "    #     current_price = prices[stock['name']] # Current price is from prices.csv file, choose the price of stock name in portfolio.csv\n",
    "    #     change = current_price - stock['price'] # Calculate change from current_price - price in portfolio.csv\n",
    "    #     summary = (stock['name'], stock['shares'], current_price, change)\n",
    "    #     rows.append(summary)\n",
    "    \n",
    "    return rows\n",
    "\n",
    "# Read data files and create the report data        \n",
    "\n",
    "portfolio = read_portfolio('Data\\portfolio.csv')\n",
    "prices = read_prices('Data\\prices.csv')\n",
    "\n",
    "# Generate the report data\n",
    "report = make_report(portfolio,prices)\n",
    "\n",
    "# Output the report data\n",
    "headers = ('Name', 'Shares', 'Price', 'Change')\n",
    "print(f'{headers[0]:>10s} {headers[1]:>10s} {headers[2]:>10s} {headers[3]:>10s}')\n",
    "strip = '-' * 10 \n",
    "space = ' '\n",
    "print(f'{strip:>10s}{space:>1s}{strip:>10s}{space:>1s}{strip:>10s}{space:>1s}{strip:>10s}')\n",
    "for name, shares, price, change in report:\n",
    "    print(f'{name:>10s} {shares:>10d} {price:>10.2f} {change:>10.2f}')\n"
   ]
  },
  {
   "cell_type": "code",
   "execution_count": 25,
   "metadata": {},
   "outputs": [],
   "source": [
    "portfolio = read_portfolio('Data\\portfolio.csv')\n",
    "from collections import Counter\n",
    "holdings = Counter()\n",
    "for s in portfolio:\n",
    "    holdings[s['name']] += s['shares'] # untuk setiap elemen 'name' akan dijumlahkan 'shares'nya"
   ]
  },
  {
   "cell_type": "code",
   "execution_count": 26,
   "metadata": {},
   "outputs": [
    {
     "data": {
      "text/plain": [
       "Counter({'AA': 100, 'IBM': 150, 'CAT': 150, 'MSFT': 250, 'GE': 95})"
      ]
     },
     "execution_count": 26,
     "metadata": {},
     "output_type": "execute_result"
    }
   ],
   "source": [
    "holdings"
   ]
  },
  {
   "attachments": {},
   "cell_type": "markdown",
   "metadata": {},
   "source": [
    "Carefully observe how the multiple entries for MSFT and IBM in portfolio get combined into a single entry here.\n",
    "\n",
    "You can use a Counter just like a dictionary to retrieve individual values:"
   ]
  },
  {
   "cell_type": "code",
   "execution_count": 23,
   "metadata": {},
   "outputs": [
    {
     "data": {
      "text/plain": [
       "150"
      ]
     },
     "execution_count": 23,
     "metadata": {},
     "output_type": "execute_result"
    }
   ],
   "source": [
    "holdings['IBM']"
   ]
  },
  {
   "attachments": {},
   "cell_type": "markdown",
   "metadata": {},
   "source": [
    "If you want to rank the values, do this:"
   ]
  },
  {
   "cell_type": "code",
   "execution_count": 29,
   "metadata": {},
   "outputs": [
    {
     "data": {
      "text/plain": [
       "[('MSFT', 250), ('IBM', 150), ('CAT', 150)]"
      ]
     },
     "execution_count": 29,
     "metadata": {},
     "output_type": "execute_result"
    }
   ],
   "source": [
    "# Get three most held stocks\n",
    "holdings.most_common(3)"
   ]
  },
  {
   "attachments": {},
   "cell_type": "markdown",
   "metadata": {},
   "source": [
    "Let’s grab another portfolio of stocks and make a new Counter:"
   ]
  },
  {
   "cell_type": "code",
   "execution_count": 33,
   "metadata": {},
   "outputs": [],
   "source": [
    "portfolio2 = read_portfolio('Data\\portfolio2.csv')\n",
    "holdings2 = Counter()\n",
    "for s in portfolio2:\n",
    "    holdings2[s['name']] += s['shares']"
   ]
  },
  {
   "cell_type": "code",
   "execution_count": 34,
   "metadata": {},
   "outputs": [
    {
     "data": {
      "text/plain": [
       "Counter({'AA': 50, 'HPQ': 250, 'MSFT': 25, 'GE': 125})"
      ]
     },
     "execution_count": 34,
     "metadata": {},
     "output_type": "execute_result"
    }
   ],
   "source": [
    "holdings2"
   ]
  },
  {
   "attachments": {},
   "cell_type": "markdown",
   "metadata": {},
   "source": [
    "Finally, let’s combine all of the holdings doing one simple operation:"
   ]
  },
  {
   "cell_type": "code",
   "execution_count": 36,
   "metadata": {},
   "outputs": [
    {
     "data": {
      "text/plain": [
       "Counter({'AA': 150,\n",
       "         'IBM': 150,\n",
       "         'CAT': 150,\n",
       "         'MSFT': 275,\n",
       "         'GE': 220,\n",
       "         'HPQ': 250})"
      ]
     },
     "execution_count": 36,
     "metadata": {},
     "output_type": "execute_result"
    }
   ],
   "source": [
    "combined = holdings + holdings2\n",
    "combined"
   ]
  },
  {
   "attachments": {},
   "cell_type": "markdown",
   "metadata": {},
   "source": [
    "This is only a small taste of what counters provide. However, if you ever find yourself needing to tabulate values, you should consider using one.\n",
    "\n",
    "**Commentary: collections module**"
   ]
  },
  {
   "attachments": {},
   "cell_type": "markdown",
   "metadata": {},
   "source": [
    "The collections module is one of the most useful library modules in all of Python. In fact, we could do an extended tutorial on just that. However, doing so now would also be a distraction. For now, put collections on your list of bedtime reading for later."
   ]
  }
 ],
 "metadata": {
  "kernelspec": {
   "display_name": "Python 3",
   "language": "python",
   "name": "python3"
  },
  "language_info": {
   "codemirror_mode": {
    "name": "ipython",
    "version": 3
   },
   "file_extension": ".py",
   "mimetype": "text/x-python",
   "name": "python",
   "nbconvert_exporter": "python",
   "pygments_lexer": "ipython3",
   "version": "3.9.13"
  },
  "orig_nbformat": 4
 },
 "nbformat": 4,
 "nbformat_minor": 2
}
