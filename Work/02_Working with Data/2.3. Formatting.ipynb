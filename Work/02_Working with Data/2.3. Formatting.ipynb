{
 "cells": [
  {
   "attachments": {},
   "cell_type": "markdown",
   "metadata": {},
   "source": [
    "# 2.3 Formatting\n",
    "\n",
    "This section is a slight digression, but when you work with data, you often want to produce structured output (tables, etc.). For example:"
   ]
  },
  {
   "attachments": {},
   "cell_type": "markdown",
   "metadata": {},
   "source": [
    "      Name      Shares        Price\n",
    "----------  ----------  -----------\n",
    "        AA         100        32.20\n",
    "       IBM          50        91.10\n",
    "       CAT         150        83.44\n",
    "      MSFT         200        51.23\n",
    "        GE          95        40.37\n",
    "      MSFT          50        65.10\n",
    "       IBM         100        70.44"
   ]
  },
  {
   "attachments": {},
   "cell_type": "markdown",
   "metadata": {},
   "source": [
    "**String Formatting**\n",
    "\n",
    "One way to format string in Python 3.6+ is with f-strings."
   ]
  },
  {
   "cell_type": "code",
   "execution_count": 1,
   "metadata": {},
   "outputs": [
    {
     "data": {
      "text/plain": [
       "'       IBM        100      91.10'"
      ]
     },
     "execution_count": 1,
     "metadata": {},
     "output_type": "execute_result"
    }
   ],
   "source": [
    "name = 'IBM'\n",
    "shares = 100\n",
    "price = 91.1\n",
    "f'{name:>10s} {shares:>10d} {price:>10.2f}'"
   ]
  },
  {
   "attachments": {},
   "cell_type": "markdown",
   "metadata": {},
   "source": [
    "The part {expression:format} is replaced.\n",
    "\n",
    "It is commonly used with print."
   ]
  },
  {
   "cell_type": "code",
   "execution_count": 2,
   "metadata": {},
   "outputs": [
    {
     "name": "stdout",
     "output_type": "stream",
     "text": [
      "       IBM        100      91.10\n"
     ]
    }
   ],
   "source": [
    "print(f'{name:>10s} {shares:>10d} {price:>10.2f}')"
   ]
  },
  {
   "attachments": {},
   "cell_type": "markdown",
   "metadata": {},
   "source": [
    "**Format codes**\n",
    "\n",
    "Format codes (after the : inside the {}) are similar to C printf(). Common codes include:"
   ]
  },
  {
   "attachments": {},
   "cell_type": "markdown",
   "metadata": {},
   "source": [
    "d       Decimal integer\n",
    "b       Binary integer\n",
    "x       Hexadecimal integer\n",
    "f       Float as [-]m.dddddd\n",
    "e       Float as [-]m.dddddde+-xx\n",
    "g       Float, but selective use of E notation\n",
    "s       String\n",
    "c       Character (from integer)"
   ]
  },
  {
   "attachments": {},
   "cell_type": "markdown",
   "metadata": {},
   "source": [
    "Common modifiers adjust the field width and decimal precision. This is a partial list:"
   ]
  },
  {
   "attachments": {},
   "cell_type": "markdown",
   "metadata": {},
   "source": [
    ":>10d   Integer right aligned in 10-character field\n",
    ":<10d   Integer left aligned in 10-character field\n",
    ":^10d   Integer centered in 10-character field\n",
    ":0.2f   Float with 2 digit precision"
   ]
  },
  {
   "attachments": {},
   "cell_type": "markdown",
   "metadata": {},
   "source": [
    "**Dictionary Formatting**\n",
    "\n",
    "You can use the format_map() method to apply string formatting to a dictionary of values:"
   ]
  },
  {
   "cell_type": "code",
   "execution_count": 3,
   "metadata": {},
   "outputs": [],
   "source": [
    "s = {\n",
    "    'name': 'IBM',\n",
    "    'shares': 100,\n",
    "    'price': 91.1\n",
    "}"
   ]
  },
  {
   "cell_type": "code",
   "execution_count": 4,
   "metadata": {},
   "outputs": [
    {
     "data": {
      "text/plain": [
       "'       IBM        100      91.10'"
      ]
     },
     "execution_count": 4,
     "metadata": {},
     "output_type": "execute_result"
    }
   ],
   "source": [
    "'{name:>10s} {shares:10d} {price:10.2f}'.format_map(s)"
   ]
  },
  {
   "attachments": {},
   "cell_type": "markdown",
   "metadata": {},
   "source": [
    "It uses the same codes as f-strings but takes the values from the supplied dictionary."
   ]
  },
  {
   "attachments": {},
   "cell_type": "markdown",
   "metadata": {},
   "source": [
    "**format() method**\n",
    "\n",
    "There is a method format() that can apply formatting to arguments or keyword arguments."
   ]
  },
  {
   "cell_type": "code",
   "execution_count": 5,
   "metadata": {},
   "outputs": [
    {
     "data": {
      "text/plain": [
       "'       IBM        100      91.10'"
      ]
     },
     "execution_count": 5,
     "metadata": {},
     "output_type": "execute_result"
    }
   ],
   "source": [
    "'{name:>10s} {shares:10d} {price:10.2f}'.format(name='IBM', shares = 100, price = 91.1)"
   ]
  },
  {
   "cell_type": "code",
   "execution_count": 7,
   "metadata": {},
   "outputs": [
    {
     "data": {
      "text/plain": [
       "'       IBM        100      91.10'"
      ]
     },
     "execution_count": 7,
     "metadata": {},
     "output_type": "execute_result"
    }
   ],
   "source": [
    "'{:>10s} {:10d} {:10.2f}'.format('IBM', 100, 91.1)"
   ]
  },
  {
   "attachments": {},
   "cell_type": "markdown",
   "metadata": {},
   "source": [
    "**C-Style Formatting**\n",
    "\n",
    "You can also use the formatting operator %."
   ]
  },
  {
   "cell_type": "code",
   "execution_count": 8,
   "metadata": {},
   "outputs": [
    {
     "data": {
      "text/plain": [
       "'The value is 3'"
      ]
     },
     "execution_count": 8,
     "metadata": {},
     "output_type": "execute_result"
    }
   ],
   "source": [
    "'The value is %d' % 3"
   ]
  },
  {
   "cell_type": "code",
   "execution_count": 9,
   "metadata": {},
   "outputs": [
    {
     "data": {
      "text/plain": [
       "'    3 4              5'"
      ]
     },
     "execution_count": 9,
     "metadata": {},
     "output_type": "execute_result"
    }
   ],
   "source": [
    "'%5d %-5d %10d' % (3,4,5)"
   ]
  },
  {
   "cell_type": "code",
   "execution_count": 10,
   "metadata": {},
   "outputs": [
    {
     "data": {
      "text/plain": [
       "'3.14'"
      ]
     },
     "execution_count": 10,
     "metadata": {},
     "output_type": "execute_result"
    }
   ],
   "source": [
    "'%0.2f' % (3.1415926,)"
   ]
  },
  {
   "attachments": {},
   "cell_type": "markdown",
   "metadata": {},
   "source": [
    "This requires a single item or a tuple on the right. Format codes are modeled after the C printf() as well.\n",
    "\n",
    "Note: This is the only formatting available on byte strings."
   ]
  },
  {
   "cell_type": "code",
   "execution_count": 11,
   "metadata": {},
   "outputs": [
    {
     "data": {
      "text/plain": [
       "b'Dave has 37 messages'"
      ]
     },
     "execution_count": 11,
     "metadata": {},
     "output_type": "execute_result"
    }
   ],
   "source": [
    "b'%s has %d messages' % (b'Dave', 37)"
   ]
  },
  {
   "cell_type": "code",
   "execution_count": 12,
   "metadata": {},
   "outputs": [
    {
     "data": {
      "text/plain": [
       "b'Dave has 37 messages'"
      ]
     },
     "execution_count": 12,
     "metadata": {},
     "output_type": "execute_result"
    }
   ],
   "source": [
    "b'%b has %d messages' % (b'Dave', 37)  # %b may be used instead of %s"
   ]
  },
  {
   "attachments": {},
   "cell_type": "markdown",
   "metadata": {},
   "source": [
    "# Exercises\n",
    "\n",
    "**Exercise 2.8: How to format numbers**\n",
    "\n",
    "A common problem with printing numbers is specifying the number of decimal places. One way to fix this is to use f-strings. Try these examples:"
   ]
  },
  {
   "cell_type": "code",
   "execution_count": 13,
   "metadata": {},
   "outputs": [
    {
     "name": "stdout",
     "output_type": "stream",
     "text": [
      "42863.1\n"
     ]
    }
   ],
   "source": [
    "value = 42863.1\n",
    "print(value)"
   ]
  },
  {
   "cell_type": "code",
   "execution_count": 14,
   "metadata": {},
   "outputs": [
    {
     "name": "stdout",
     "output_type": "stream",
     "text": [
      "42863.1000\n"
     ]
    }
   ],
   "source": [
    "print(f'{value:0.4f}') # print value with 4 decimal points precision"
   ]
  },
  {
   "cell_type": "code",
   "execution_count": 15,
   "metadata": {},
   "outputs": [
    {
     "name": "stdout",
     "output_type": "stream",
     "text": [
      "        42863.10\n"
     ]
    }
   ],
   "source": [
    "print(f'{value:>16.2f}') # right aligned in 16-character field, 2 decimal points precision"
   ]
  },
  {
   "cell_type": "code",
   "execution_count": 16,
   "metadata": {},
   "outputs": [
    {
     "name": "stdout",
     "output_type": "stream",
     "text": [
      "42863.10        \n"
     ]
    }
   ],
   "source": [
    "print(f'{value:<16.2f}')"
   ]
  },
  {
   "cell_type": "code",
   "execution_count": 17,
   "metadata": {},
   "outputs": [
    {
     "name": "stdout",
     "output_type": "stream",
     "text": [
      "*******42,863.10\n"
     ]
    }
   ],
   "source": [
    "print(f'{value:*>16,.2f}')"
   ]
  },
  {
   "attachments": {},
   "cell_type": "markdown",
   "metadata": {},
   "source": [
    "Full documentation on the formatting codes used f-strings can be found https://docs.python.org/3/library/string.html#format-specification-mini-language. Formatting is also sometimes performed using the % operator of strings."
   ]
  },
  {
   "cell_type": "code",
   "execution_count": 18,
   "metadata": {},
   "outputs": [
    {
     "name": "stdout",
     "output_type": "stream",
     "text": [
      "42863.1000\n"
     ]
    }
   ],
   "source": [
    "print('%0.4f' % value)"
   ]
  },
  {
   "cell_type": "code",
   "execution_count": 20,
   "metadata": {},
   "outputs": [
    {
     "name": "stdout",
     "output_type": "stream",
     "text": [
      "        42863.10\n"
     ]
    }
   ],
   "source": [
    "print('%16.2f' % value)"
   ]
  },
  {
   "attachments": {},
   "cell_type": "markdown",
   "metadata": {},
   "source": [
    "Documentation on various codes used with % can be found https://docs.python.org/3/library/stdtypes.html#printf-style-string-formatting.\n",
    "\n",
    "Although it’s commonly used with print, string formatting is not tied to printing. If you want to save a formatted string. Just assign it to a variable"
   ]
  },
  {
   "cell_type": "code",
   "execution_count": 21,
   "metadata": {},
   "outputs": [
    {
     "data": {
      "text/plain": [
       "'42863.1000'"
      ]
     },
     "execution_count": 21,
     "metadata": {},
     "output_type": "execute_result"
    }
   ],
   "source": [
    "f = '%0.4f' % value\n",
    "f"
   ]
  },
  {
   "attachments": {},
   "cell_type": "markdown",
   "metadata": {},
   "source": [
    "**Exercise 2.9: Collecting Data**\n",
    "\n",
    "In Exercise 2.7, you wrote a program called report.py that computed the gain/loss of a stock portfolio. In this exercise, you're going to start modifying it to produce a table like this:"
   ]
  },
  {
   "attachments": {},
   "cell_type": "markdown",
   "metadata": {},
   "source": [
    "      Name     Shares      Price     Change\n",
    "---------- ---------- ---------- ----------\n",
    "        AA        100       9.22     -22.98\n",
    "       IBM         50     106.28      15.18\n",
    "       CAT        150      35.46     -47.98\n",
    "      MSFT        200      20.89     -30.34\n",
    "        GE         95      13.48     -26.89\n",
    "      MSFT         50      20.89     -44.21\n",
    "       IBM        100     106.28      35.84"
   ]
  },
  {
   "attachments": {},
   "cell_type": "markdown",
   "metadata": {},
   "source": [
    "In this report, \"Price\" is the current share price of the stock and \"Change\" is the change in the share price from the initial purchase price.\n",
    "\n",
    "In order to generate the above report, you’ll first want to collect all of the data shown in the table. Write a function make_report() that takes a list of stocks and dictionary of prices as input and returns a list of tuples containing the rows of the above table.\n",
    "\n",
    "Add this function to your report.py file. Here’s how it should work if you try it interactively:"
   ]
  },
  {
   "cell_type": "code",
   "execution_count": 3,
   "metadata": {},
   "outputs": [],
   "source": [
    "import os\n",
    "os.chdir(r'C:\\Users\\Fadinda Shafira\\Documents\\KALBE\\Python\\practical-python\\Work')"
   ]
  },
  {
   "cell_type": "code",
   "execution_count": 4,
   "metadata": {},
   "outputs": [],
   "source": [
    "import csv\n",
    "\n",
    "def read_portfolio(filename):\n",
    "\n",
    "    '''\n",
    "    Read a stock portfolio file into a list of dictionaries with keys :\n",
    "    name, shares, and price\n",
    "    '''\n",
    "\n",
    "    portfolio = []\n",
    "\n",
    "    with open(filename, 'rt') as f:\n",
    "        rows = csv.reader(f)\n",
    "        headers = next(rows)\n",
    "        for row in rows:            \n",
    "            stock = {\n",
    "                'name' : row[0], \n",
    "                'shares' : int(row[1]), \n",
    "                'price' : float(row[2])}\n",
    "            portfolio.append(stock)\n",
    "    return portfolio\n",
    "\n",
    "def read_prices(filename):\n",
    "    \n",
    "    '''\n",
    "    Read a CSV file of price data into a dict mapping names to prices\n",
    "    '''\n",
    "    prices = {}\n",
    "\n",
    "    with open(filename, 'rt') as f:\n",
    "        rows = csv.reader(f)\n",
    "        for row in rows:   \n",
    "            try:\n",
    "                prices[row[0]] = float(row[1])\n",
    "            except IndexError:\n",
    "                pass\n",
    "    return prices\n",
    "\n",
    "def make_report(portfolio, prices):\n",
    "    \"\"\"\n",
    "    Takes a list of stocks and dictionary of prices as input\n",
    "    returns a list of tuples containing the rows of table (name, shares, price, change)\n",
    "    \"\"\"\n",
    "\n",
    "    rows = []\n",
    "\n",
    "    for stock in portfolio:\n",
    "        current_price = prices[stock['name']] # Current price is from prices.csv file, choose the price of stock name in portfolio.csv\n",
    "        change = current_price - stock['price'] # Calculate change from current_price - price in portfolio.csv\n",
    "        summary = (stock['name'], stock['shares'], current_price, change)\n",
    "        rows.append(summary)\n",
    "    \n",
    "    return rows\n",
    "\n",
    "# Read data files and create the report data        \n",
    "\n",
    "portfolio = read_portfolio('Data\\portfolio.csv')\n",
    "prices = read_prices('Data\\prices.csv')"
   ]
  },
  {
   "cell_type": "code",
   "execution_count": 5,
   "metadata": {},
   "outputs": [
    {
     "name": "stdout",
     "output_type": "stream",
     "text": [
      "('AA', 100, 9.22, -22.980000000000004)\n",
      "('IBM', 50, 106.28, 15.180000000000007)\n",
      "('CAT', 150, 35.46, -47.98)\n",
      "('MSFT', 200, 20.89, -30.339999999999996)\n",
      "('GE', 95, 13.48, -26.889999999999997)\n",
      "('MSFT', 50, 20.89, -44.209999999999994)\n",
      "('IBM', 100, 106.28, 35.84)\n"
     ]
    }
   ],
   "source": [
    "report = make_report(portfolio,prices)\n",
    "for r in report:\n",
    "    print(r)"
   ]
  },
  {
   "attachments": {},
   "cell_type": "markdown",
   "metadata": {},
   "source": [
    "**Exercise 2.10: Printing a formatted table**\n",
    "\n",
    "Redo the for-loop in Exercise 2.9, but change the print statement to format the tuples."
   ]
  },
  {
   "cell_type": "code",
   "execution_count": 6,
   "metadata": {},
   "outputs": [
    {
     "name": "stdout",
     "output_type": "stream",
     "text": [
      "        AA        100       9.22     -22.98\n",
      "       IBM         50     106.28      15.18\n",
      "       CAT        150      35.46     -47.98\n",
      "      MSFT        200      20.89     -30.34\n",
      "        GE         95      13.48     -26.89\n",
      "      MSFT         50      20.89     -44.21\n",
      "       IBM        100     106.28      35.84\n"
     ]
    }
   ],
   "source": [
    "for r in report:\n",
    "    print('%10s %10d %10.2f %10.2f' % r)"
   ]
  },
  {
   "attachments": {},
   "cell_type": "markdown",
   "metadata": {},
   "source": [
    "You can also expand the values and use f-strings. For example:"
   ]
  },
  {
   "cell_type": "code",
   "execution_count": 7,
   "metadata": {},
   "outputs": [
    {
     "name": "stdout",
     "output_type": "stream",
     "text": [
      "        AA        100       9.22     -22.98\n",
      "       IBM         50     106.28      15.18\n",
      "       CAT        150      35.46     -47.98\n",
      "      MSFT        200      20.89     -30.34\n",
      "        GE         95      13.48     -26.89\n",
      "      MSFT         50      20.89     -44.21\n",
      "       IBM        100     106.28      35.84\n"
     ]
    }
   ],
   "source": [
    "for name, shares, price, change in report:\n",
    "    print(f'{name:>10s} {shares:>10d} {price:>10.2f} {change:>10.2f}')"
   ]
  },
  {
   "attachments": {},
   "cell_type": "markdown",
   "metadata": {},
   "source": [
    "Take the above statements and add them to your report.py program. Have your program take the output of the make_report() function and print a nicely formatted table as shown."
   ]
  },
  {
   "attachments": {},
   "cell_type": "markdown",
   "metadata": {},
   "source": [
    "**Exercise 2.11: Adding some headers**\n",
    "\n",
    "Suppose you had a tuple of header names like this:"
   ]
  },
  {
   "cell_type": "code",
   "execution_count": 8,
   "metadata": {},
   "outputs": [],
   "source": [
    "headers = ('Name', 'Shares', 'Price', 'Change')"
   ]
  },
  {
   "attachments": {},
   "cell_type": "markdown",
   "metadata": {},
   "source": [
    "Add code to your program that takes the above tuple of headers and creates a string where each header name is right-aligned in a 10-character wide field and each field is separated by a single space."
   ]
  },
  {
   "attachments": {},
   "cell_type": "markdown",
   "metadata": {},
   "source": [
    "'      Name     Shares      Price      Change'"
   ]
  },
  {
   "attachments": {},
   "cell_type": "markdown",
   "metadata": {},
   "source": [
    "Write code that takes the headers and creates the separator string between the headers and data to follow. This string is just a bunch of \"-\" characters under each field name. For example:"
   ]
  },
  {
   "attachments": {},
   "cell_type": "markdown",
   "metadata": {},
   "source": [
    "'---------- ---------- ---------- -----------'"
   ]
  },
  {
   "attachments": {},
   "cell_type": "markdown",
   "metadata": {},
   "source": [
    "When you’re done, your program should produce the table shown at the top of this exercise."
   ]
  },
  {
   "attachments": {},
   "cell_type": "markdown",
   "metadata": {},
   "source": [
    "      Name     Shares      Price     Change\n",
    "---------- ---------- ---------- ----------\n",
    "        AA        100       9.22     -22.98\n",
    "       IBM         50     106.28      15.18\n",
    "       CAT        150      35.46     -47.98\n",
    "      MSFT        200      20.89     -30.34\n",
    "        GE         95      13.48     -26.89\n",
    "      MSFT         50      20.89     -44.21\n",
    "       IBM        100     106.28      35.84"
   ]
  },
  {
   "cell_type": "code",
   "execution_count": 50,
   "metadata": {},
   "outputs": [
    {
     "name": "stdout",
     "output_type": "stream",
     "text": [
      "      Name     Shares      Price     Change\n",
      "---------- ---------- ---------- ----------\n",
      "        AA        100 $      9.22     -22.98\n",
      "       IBM         50 $    106.28      15.18\n",
      "       CAT        150 $     35.46     -47.98\n",
      "      MSFT        200 $     20.89     -30.34\n",
      "        GE         95 $     13.48     -26.89\n",
      "      MSFT         50 $     20.89     -44.21\n",
      "       IBM        100 $    106.28      35.84\n"
     ]
    }
   ],
   "source": [
    "headers = ('Name', 'Shares', 'Price', 'Change')\n",
    "print(f'{headers[0]:>10s} {headers[1]:>10s} {headers[2]:>10s} {headers[3]:>10s}')\n",
    "strip = '-' * 10 \n",
    "space = ' '\n",
    "print(f'{strip:>10s}{space:>1s}{strip:>10s}{space:>1s}{strip:>10s}{space:>1s}{strip:>10s}')\n",
    "for name, shares, price, change in report:\n",
    "    print(f'{name:>10s} {shares:>10d} ${price:>10.2f} {change:>10.2f}')"
   ]
  },
  {
   "attachments": {},
   "cell_type": "markdown",
   "metadata": {},
   "source": [
    "**Exercise 2.12: Formatting Challenge**\n",
    "\n",
    "How would you modify your code so that the price includes the currency symbol ($) and the output looks like this:"
   ]
  },
  {
   "attachments": {},
   "cell_type": "markdown",
   "metadata": {},
   "source": [
    "      Name     Shares      Price     Change\n",
    "---------- ---------- ---------- ----------\n",
    "        AA        100      $9.22     -22.98\n",
    "       IBM         50    $106.28      15.18\n",
    "       CAT        150     $35.46     -47.98\n",
    "      MSFT        200     $20.89     -30.34\n",
    "        GE         95     $13.48     -26.89\n",
    "      MSFT         50     $20.89     -44.21\n",
    "       IBM        100    $106.28      35.84"
   ]
  }
 ],
 "metadata": {
  "kernelspec": {
   "display_name": "Python 3",
   "language": "python",
   "name": "python3"
  },
  "language_info": {
   "codemirror_mode": {
    "name": "ipython",
    "version": 3
   },
   "file_extension": ".py",
   "mimetype": "text/x-python",
   "name": "python",
   "nbconvert_exporter": "python",
   "pygments_lexer": "ipython3",
   "version": "3.9.13"
  },
  "orig_nbformat": 4
 },
 "nbformat": 4,
 "nbformat_minor": 2
}
