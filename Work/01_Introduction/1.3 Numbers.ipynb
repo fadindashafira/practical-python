{
 "cells": [
  {
   "attachments": {},
   "cell_type": "markdown",
   "metadata": {},
   "source": [
    "# 1.3 Numbers"
   ]
  },
  {
   "attachments": {},
   "cell_type": "markdown",
   "metadata": {},
   "source": [
    "This section discusses mathematical calculations."
   ]
  },
  {
   "attachments": {},
   "cell_type": "markdown",
   "metadata": {},
   "source": [
    "**Types of Numbers**\n",
    "\n",
    "Python has 4 types of numbers:\n",
    "- Booleans\n",
    "- Integers\n",
    "- Floating point\n",
    "- Complex (imaginary numbers)"
   ]
  },
  {
   "attachments": {},
   "cell_type": "markdown",
   "metadata": {},
   "source": [
    "**Booleans (bool)**\n",
    "\n",
    "Booleans have two values: `True`, `False`"
   ]
  },
  {
   "cell_type": "code",
   "execution_count": 1,
   "metadata": {},
   "outputs": [],
   "source": [
    "a = True\n",
    "b = False"
   ]
  },
  {
   "attachments": {},
   "cell_type": "markdown",
   "metadata": {},
   "source": [
    "Numerically, they're evaluated as integers with value 1, 0."
   ]
  },
  {
   "cell_type": "code",
   "execution_count": 2,
   "metadata": {},
   "outputs": [
    {
     "name": "stdout",
     "output_type": "stream",
     "text": [
      "d is False\n"
     ]
    }
   ],
   "source": [
    "c = 4 + True # Equals to 5, because True = 1\n",
    "d = False # 0\n",
    "if d == 0:\n",
    "    print ('d is False')\n"
   ]
  },
  {
   "attachments": {},
   "cell_type": "markdown",
   "metadata": {},
   "source": [
    "But, don't write code like that. It would be odd."
   ]
  },
  {
   "attachments": {},
   "cell_type": "markdown",
   "metadata": {},
   "source": [
    "**Integers (int)**\n",
    "\n",
    "Signed values of arbitrary size and base:"
   ]
  },
  {
   "cell_type": "code",
   "execution_count": 3,
   "metadata": {},
   "outputs": [],
   "source": [
    "a = 37\n",
    "b = -299392993727716627377128481812241231\n",
    "c = 0x7fa8      # Hexadecimal\n",
    "d = 0o253       # Octal\n",
    "e = 0b10001111  # Binary"
   ]
  },
  {
   "attachments": {},
   "cell_type": "markdown",
   "metadata": {},
   "source": [
    "Common operations: "
   ]
  },
  {
   "attachments": {},
   "cell_type": "markdown",
   "metadata": {},
   "source": [
    "x + y      Add\n",
    "x - y      Subtract\n",
    "x * y      Multiply\n",
    "x / y      Divide (produces a float)\n",
    "x // y     Floor Divide (produces an integer)\n",
    "x % y      Modulo (remainder)\n",
    "x ** y     Power\n",
    "x << n     Bit shift left\n",
    "x >> n     Bit shift right\n",
    "x & y      Bit-wise AND\n",
    "x | y      Bit-wise OR\n",
    "x ^ y      Bit-wise XOR\n",
    "~x         Bit-wise NOT\n",
    "abs(x)     Absolute value"
   ]
  },
  {
   "attachments": {},
   "cell_type": "markdown",
   "metadata": {},
   "source": [
    "**Floating point (float)**\n",
    "\n",
    "Use a decimal or exponential notation to specify a floating point value:"
   ]
  },
  {
   "cell_type": "code",
   "execution_count": 5,
   "metadata": {},
   "outputs": [],
   "source": [
    "a = 37.45\n",
    "b = 4e5             # 4 x 10**5 or 400,000\n",
    "c = -1.345e-10"
   ]
  },
  {
   "attachments": {},
   "cell_type": "markdown",
   "metadata": {},
   "source": [
    "Floats are represented as double precision using the native CPU representation IEEE 754. This is the same as the double type in the programming language C."
   ]
  },
  {
   "attachments": {},
   "cell_type": "markdown",
   "metadata": {},
   "source": [
    "17 digits of precision\n",
    "Exponent from -308 to 308"
   ]
  },
  {
   "attachments": {},
   "cell_type": "markdown",
   "metadata": {},
   "source": [
    "Be aware that floating point numbers are inexact when representing decimals."
   ]
  },
  {
   "cell_type": "code",
   "execution_count": 6,
   "metadata": {},
   "outputs": [
    {
     "data": {
      "text/plain": [
       "False"
      ]
     },
     "execution_count": 6,
     "metadata": {},
     "output_type": "execute_result"
    }
   ],
   "source": [
    "a = 2.1 + 4.2\n",
    "a == 6.3"
   ]
  },
  {
   "cell_type": "code",
   "execution_count": 7,
   "metadata": {},
   "outputs": [
    {
     "data": {
      "text/plain": [
       "6.300000000000001"
      ]
     },
     "execution_count": 7,
     "metadata": {},
     "output_type": "execute_result"
    }
   ],
   "source": [
    "a"
   ]
  },
  {
   "attachments": {},
   "cell_type": "markdown",
   "metadata": {},
   "source": [
    "This is not a Python issue, but the underlying floating point hardware on the CPU."
   ]
  },
  {
   "attachments": {},
   "cell_type": "markdown",
   "metadata": {},
   "source": [
    "Common Operations:"
   ]
  },
  {
   "attachments": {},
   "cell_type": "markdown",
   "metadata": {},
   "source": [
    "x + y      Add\n",
    "x - y      Subtract\n",
    "x * y      Multiply\n",
    "x / y      Divide\n",
    "x // y     Floor Divide\n",
    "x % y      Modulo\n",
    "x ** y     Power\n",
    "abs(x)     Absolute Value"
   ]
  },
  {
   "attachments": {},
   "cell_type": "markdown",
   "metadata": {},
   "source": [
    "These are the same operators as Integers, except for the bit-wise operators. Additional math functions are found in the math module."
   ]
  },
  {
   "cell_type": "code",
   "execution_count": 11,
   "metadata": {},
   "outputs": [
    {
     "name": "stdout",
     "output_type": "stream",
     "text": [
      "1.0 0.8414709848078965 0.5403023058681398 1.5574077246549023 0.0\n"
     ]
    }
   ],
   "source": [
    "import math\n",
    "x = 1\n",
    "a = math.sqrt(x)\n",
    "b = math.sin(x)\n",
    "c = math.cos(x)\n",
    "d = math.tan(x)\n",
    "e = math.log(x)\n",
    "print(a, b, c, d, e)"
   ]
  },
  {
   "attachments": {},
   "cell_type": "markdown",
   "metadata": {},
   "source": [
    "**Comparisons**\n",
    "\n",
    "The following comparison / relational operators work with numbers:"
   ]
  },
  {
   "attachments": {},
   "cell_type": "markdown",
   "metadata": {},
   "source": [
    "x < y      Less than\n",
    "x <= y     Less than or equal\n",
    "x > y      Greater than\n",
    "x >= y     Greater than or equal\n",
    "x == y     Equal to\n",
    "x != y     Not equal to"
   ]
  },
  {
   "attachments": {},
   "cell_type": "markdown",
   "metadata": {},
   "source": [
    "You can form more complex boolean expressions using\n",
    "\n",
    "and, or, not\n",
    "\n",
    "Here are a few examples:"
   ]
  },
  {
   "cell_type": "code",
   "execution_count": null,
   "metadata": {},
   "outputs": [],
   "source": [
    "if b >= a and b <= c:\n",
    "    print('b is between a and c')\n",
    "\n",
    "if not (b < a or b > c):\n",
    "    print('b is still between a and c')"
   ]
  },
  {
   "attachments": {},
   "cell_type": "markdown",
   "metadata": {},
   "source": [
    "**Converting Numbers**\n",
    "\n",
    "The type name can be used to convert values:"
   ]
  },
  {
   "cell_type": "code",
   "execution_count": 5,
   "metadata": {},
   "outputs": [
    {
     "name": "stdout",
     "output_type": "stream",
     "text": [
      "3 3.0\n"
     ]
    }
   ],
   "source": [
    "x = 3\n",
    "\n",
    "a = int(x) # convert x to integer\n",
    "\n",
    "b = float(x) # convert x to float\n",
    "print(a,b)"
   ]
  },
  {
   "cell_type": "code",
   "execution_count": 6,
   "metadata": {},
   "outputs": [
    {
     "data": {
      "text/plain": [
       "3"
      ]
     },
     "execution_count": 6,
     "metadata": {},
     "output_type": "execute_result"
    }
   ],
   "source": [
    "a = 3.14159\n",
    "int(a)"
   ]
  },
  {
   "cell_type": "code",
   "execution_count": 8,
   "metadata": {},
   "outputs": [
    {
     "data": {
      "text/plain": [
       "3.14159"
      ]
     },
     "execution_count": 8,
     "metadata": {},
     "output_type": "execute_result"
    }
   ],
   "source": [
    "b = '3.14159' # It also works with strings containing numbers\n",
    "float(b)"
   ]
  },
  {
   "attachments": {},
   "cell_type": "markdown",
   "metadata": {},
   "source": [
    "# Exercises"
   ]
  },
  {
   "attachments": {},
   "cell_type": "markdown",
   "metadata": {},
   "source": [
    "**Exercise 1.7: Dave's Mortgage**\n",
    "\n",
    "Dave has decided to take out a 30-year fixed rate mortgage of $500,000 with Guido’s Mortgage, Stock Investment, and Bitcoin trading corporation. The interest rate is 5% and the monthly payment is $2684.11.\n",
    "\n",
    "Here is a program that calculates the total amount that Dave will have to pay over the life of the mortgage:"
   ]
  },
  {
   "cell_type": "code",
   "execution_count": null,
   "metadata": {},
   "outputs": [],
   "source": [
    "# mortgage.py\n",
    "#\n",
    "# Exercise 1.7\n",
    "\n",
    "principal = 500000.0\n",
    "rate = 0.05 # 5 %\n",
    "monthly_payment = 2684.11\n",
    "total_paid = 0.0\n",
    "month = 0\n",
    "extra = 1000.0\n",
    "\n",
    "extra_payment_start_month = 61\n",
    "extra_payment_end_month = 108\n",
    "\n",
    "# Calculate total amount that Dave will have\n",
    "# to pay over the ife of the mortgage:\n",
    "\n",
    "while principal > 0:\n",
    "    month += 1\n",
    "    principal = principal * (1+rate/12) - monthly_payment\n",
    "\n",
    "    if principal < 0:\n",
    "        principal = principal - principal\n",
    "        monthly_payment = principal\n",
    "    \n",
    "    else:\n",
    "        total_paid = total_paid + monthly_payment\n",
    "    \n",
    "    # if months <= 12:\n",
    "    #     principal = principal - extra\n",
    "    #     total_paid = total_paid + extra\n",
    "\n",
    "    if month >= extra_payment_start_month and month <= extra_payment_end_month:\n",
    "        principal = principal - extra\n",
    "        total_paid = total_paid + extra\n",
    "    \n",
    "\n",
    "    print(month, round(total_paid,2), round(principal, 2))\n",
    "\n",
    "print('Total paid', round(total_paid,2))\n",
    "print('Months', month)"
   ]
  },
  {
   "attachments": {},
   "cell_type": "markdown",
   "metadata": {},
   "source": [
    "**Exercise 1.12: A Mystery**\n",
    "\n",
    "int() and float() can be used to convert numbers. For example,"
   ]
  },
  {
   "cell_type": "code",
   "execution_count": 10,
   "metadata": {},
   "outputs": [
    {
     "data": {
      "text/plain": [
       "123"
      ]
     },
     "execution_count": 10,
     "metadata": {},
     "output_type": "execute_result"
    }
   ],
   "source": [
    "int(\"123\")"
   ]
  },
  {
   "cell_type": "code",
   "execution_count": 11,
   "metadata": {},
   "outputs": [
    {
     "data": {
      "text/plain": [
       "1.23"
      ]
     },
     "execution_count": 11,
     "metadata": {},
     "output_type": "execute_result"
    }
   ],
   "source": [
    "float(\"1.23\")"
   ]
  },
  {
   "cell_type": "code",
   "execution_count": 14,
   "metadata": {},
   "outputs": [
    {
     "data": {
      "text/plain": [
       "True"
      ]
     },
     "execution_count": 14,
     "metadata": {},
     "output_type": "execute_result"
    }
   ],
   "source": [
    "bool(\"False\") # The string is contained value so it is true"
   ]
  }
 ],
 "metadata": {
  "kernelspec": {
   "display_name": "Python 3",
   "language": "python",
   "name": "python3"
  },
  "language_info": {
   "codemirror_mode": {
    "name": "ipython",
    "version": 3
   },
   "file_extension": ".py",
   "mimetype": "text/x-python",
   "name": "python",
   "nbconvert_exporter": "python",
   "pygments_lexer": "ipython3",
   "version": "3.9.13"
  },
  "orig_nbformat": 4
 },
 "nbformat": 4,
 "nbformat_minor": 2
}
