{
 "cells": [
  {
   "attachments": {},
   "cell_type": "markdown",
   "metadata": {},
   "source": [
    "# 1.2 A First Program"
   ]
  },
  {
   "attachments": {},
   "cell_type": "markdown",
   "metadata": {},
   "source": [
    "**Running Python**\n",
    "\n",
    "Python programs always run inside an interpreter.\n",
    "\n",
    "The interpreter is a \"console-based\" application that normally runs from a command shell."
   ]
  },
  {
   "attachments": {},
   "cell_type": "markdown",
   "metadata": {},
   "source": [
    "Expert programmers usually have no problem using the interpreter in this way, but it's not so user-friendly for beginners. You may be using an environment that provides a different interface to Python. That's fine, but learning how to run Python terminal is still a useful skill to know."
   ]
  },
  {
   "attachments": {},
   "cell_type": "markdown",
   "metadata": {},
   "source": [
    "**Interactive Mode**"
   ]
  },
  {
   "attachments": {},
   "cell_type": "markdown",
   "metadata": {},
   "source": [
    "When you start Python, you get an interactive mode where you can experiment.\n",
    "\n",
    "If you start typing statements, they will run immediately. There is no edit/compile/run/debug cycle."
   ]
  },
  {
   "cell_type": "code",
   "execution_count": 1,
   "metadata": {},
   "outputs": [
    {
     "name": "stdout",
     "output_type": "stream",
     "text": [
      "hello world\n"
     ]
    }
   ],
   "source": [
    "print('hello world')"
   ]
  },
  {
   "cell_type": "code",
   "execution_count": 2,
   "metadata": {},
   "outputs": [
    {
     "data": {
      "text/plain": [
       "1554"
      ]
     },
     "execution_count": 2,
     "metadata": {},
     "output_type": "execute_result"
    }
   ],
   "source": [
    "37*42"
   ]
  },
  {
   "cell_type": "code",
   "execution_count": 3,
   "metadata": {},
   "outputs": [
    {
     "name": "stdout",
     "output_type": "stream",
     "text": [
      "0\n",
      "1\n",
      "2\n",
      "3\n",
      "4\n"
     ]
    }
   ],
   "source": [
    "for i in range(5):\n",
    "    print(i)"
   ]
  },
  {
   "attachments": {},
   "cell_type": "markdown",
   "metadata": {},
   "source": [
    "This so-called read-eval-print-loop (or REPL) is very useful for debugging and exploration.\n",
    "\n",
    "Let's take a closer look at the elements of the REPL:\n",
    "\n",
    ">>> is the interpreter prompt for starting a new statement."
   ]
  },
  {
   "cell_type": "code",
   "execution_count": 4,
   "metadata": {},
   "outputs": [
    {
     "data": {
      "text/plain": [
       "1554"
      ]
     },
     "execution_count": 4,
     "metadata": {},
     "output_type": "execute_result"
    }
   ],
   "source": [
    "# Underscore (_) holds the last result\n",
    "\n",
    "37*42"
   ]
  },
  {
   "cell_type": "code",
   "execution_count": 5,
   "metadata": {},
   "outputs": [
    {
     "data": {
      "text/plain": [
       "3108"
      ]
     },
     "execution_count": 5,
     "metadata": {},
     "output_type": "execute_result"
    }
   ],
   "source": [
    "_ * 2"
   ]
  },
  {
   "cell_type": "code",
   "execution_count": 6,
   "metadata": {},
   "outputs": [
    {
     "data": {
      "text/plain": [
       "3158"
      ]
     },
     "execution_count": 6,
     "metadata": {},
     "output_type": "execute_result"
    }
   ],
   "source": [
    "_ + 50"
   ]
  },
  {
   "attachments": {},
   "cell_type": "markdown",
   "metadata": {},
   "source": [
    "Note: This is only true in the interactive mode. You never use _ in a program."
   ]
  },
  {
   "attachments": {},
   "cell_type": "markdown",
   "metadata": {},
   "source": [
    "**Creating Programs**\n",
    "\n",
    "Programs are put in .py files"
   ]
  },
  {
   "cell_type": "code",
   "execution_count": 7,
   "metadata": {},
   "outputs": [
    {
     "name": "stdout",
     "output_type": "stream",
     "text": [
      "hello world\n"
     ]
    }
   ],
   "source": [
    "# hello.py\n",
    "print('hello world')"
   ]
  },
  {
   "attachments": {},
   "cell_type": "markdown",
   "metadata": {},
   "source": [
    "You can create these files with your favorite text editor."
   ]
  },
  {
   "attachments": {},
   "cell_type": "markdown",
   "metadata": {},
   "source": [
    "**Running Programs**\n",
    "\n",
    "To execute a program, run it in the terminal with the the `python` command."
   ]
  },
  {
   "cell_type": "code",
   "execution_count": null,
   "metadata": {},
   "outputs": [],
   "source": [
    "cd \".\\Work\\01_Introduction\"\n",
    "python hello.py"
   ]
  },
  {
   "attachments": {},
   "cell_type": "markdown",
   "metadata": {},
   "source": [
    "Note: On Windows, you may need to specify a full path to the Python interpreter such as c:\\python36\\python. However, if Python is installed in its usual way, you might be able to just type the name of the program such as hello.py."
   ]
  },
  {
   "attachments": {},
   "cell_type": "markdown",
   "metadata": {},
   "source": [
    "**A sample program**\n",
    "\n",
    "Let's solve the following problem:\n",
    "\n",
    "One morning, you go out and place a dollar bill on the sidewalk by the Sears tower in Chicago. Each day thereafter, you go out double the number of bills. How long does it take for the stack of bills to exceed the height of the tower?"
   ]
  },
  {
   "cell_type": "code",
   "execution_count": 9,
   "metadata": {},
   "outputs": [
    {
     "name": "stdout",
     "output_type": "stream",
     "text": [
      "1 1 0.00011\n",
      "2 2 0.00022\n",
      "3 4 0.00044\n",
      "4 8 0.00088\n",
      "5 16 0.00176\n",
      "6 32 0.00352\n",
      "7 64 0.00704\n",
      "8 128 0.01408\n",
      "9 256 0.02816\n",
      "10 512 0.05632\n",
      "11 1024 0.11264\n",
      "12 2048 0.22528\n",
      "13 4096 0.45056\n",
      "14 8192 0.90112\n",
      "15 16384 1.80224\n",
      "16 32768 3.60448\n",
      "17 65536 7.20896\n",
      "18 131072 14.41792\n",
      "19 262144 28.83584\n",
      "20 524288 57.67168\n",
      "21 1048576 115.34336\n",
      "22 2097152 230.68672\n",
      "Number of days 23\n",
      "Number of bills 4194304\n",
      "Final height 461.37344\n"
     ]
    }
   ],
   "source": [
    "# sears .py\n",
    "\n",
    "# define variable\n",
    "\n",
    "sears_height = 442\n",
    "thickness_dolarbill = 0.11 / 1000 # 0.11 in mm\n",
    "num_bills = 1\n",
    "day = 1\n",
    "\n",
    "# jumlah bill dikali dengan ketebalan uang jika masih kurang dari tinggi gedung\n",
    "while num_bills * thickness_dolarbill < sears_height: \n",
    "    print(day, num_bills, num_bills * thickness_dolarbill)\n",
    "    day = day + 1 # hari bertambah\n",
    "    num_bills = num_bills * 2 # uang berlipat ganda\n",
    "\n",
    "print('Number of days', day)\n",
    "print('Number of bills', num_bills)\n",
    "print('Final height', num_bills * thickness_dolarbill)\n"
   ]
  },
  {
   "attachments": {},
   "cell_type": "markdown",
   "metadata": {},
   "source": [
    "**Statements**\n",
    "\n",
    "A python program is a sequence of statements"
   ]
  },
  {
   "cell_type": "code",
   "execution_count": 10,
   "metadata": {},
   "outputs": [
    {
     "name": "stdout",
     "output_type": "stream",
     "text": [
      "14\n"
     ]
    }
   ],
   "source": [
    "a = 3 + 4\n",
    "b = a * 2\n",
    "print(b)"
   ]
  },
  {
   "attachments": {},
   "cell_type": "markdown",
   "metadata": {},
   "source": [
    "Each statement is terminated by a newline. Statements are executed one after the other until control reaches the end of the file."
   ]
  },
  {
   "attachments": {},
   "cell_type": "markdown",
   "metadata": {},
   "source": [
    "**Comments**"
   ]
  },
  {
   "attachments": {},
   "cell_type": "markdown",
   "metadata": {},
   "source": [
    "Comments are text that will not be executed."
   ]
  },
  {
   "cell_type": "code",
   "execution_count": 11,
   "metadata": {},
   "outputs": [
    {
     "name": "stdout",
     "output_type": "stream",
     "text": [
      "14\n"
     ]
    }
   ],
   "source": [
    "a = 3 + 4\n",
    "# This is a comment\n",
    "b = a * 2\n",
    "print(b)"
   ]
  },
  {
   "attachments": {},
   "cell_type": "markdown",
   "metadata": {},
   "source": [
    "Comments are denoted by # and extend to the end of the line."
   ]
  },
  {
   "attachments": {},
   "cell_type": "markdown",
   "metadata": {},
   "source": [
    "**Variables**\n",
    "\n",
    "A variable is a name for a value. You can use letters (lower and upper-case) from a to z. As well as the character underscore _. Numbers can also be part of the name of a variable, except as the first character."
   ]
  },
  {
   "cell_type": "code",
   "execution_count": 12,
   "metadata": {},
   "outputs": [
    {
     "ename": "SyntaxError",
     "evalue": "invalid syntax (2637730559.py, line 4)",
     "output_type": "error",
     "traceback": [
      "\u001b[1;36m  Input \u001b[1;32mIn [12]\u001b[1;36m\u001b[0m\n\u001b[1;33m    2height = 442 # invalid\u001b[0m\n\u001b[1;37m     ^\u001b[0m\n\u001b[1;31mSyntaxError\u001b[0m\u001b[1;31m:\u001b[0m invalid syntax\n"
     ]
    }
   ],
   "source": [
    "height = 442 # valid\n",
    "_height = 442 # valid\n",
    "height2 = 442 # valid\n",
    "2height = 442 # invalid"
   ]
  },
  {
   "attachments": {},
   "cell_type": "markdown",
   "metadata": {},
   "source": [
    "**Types**\n",
    "\n",
    "Variables do not need to be declared with the type of the value. The type is associated with the value on the right hand side, not name of the variable."
   ]
  },
  {
   "cell_type": "code",
   "execution_count": 17,
   "metadata": {},
   "outputs": [
    {
     "data": {
      "text/plain": [
       "str"
      ]
     },
     "execution_count": 17,
     "metadata": {},
     "output_type": "execute_result"
    }
   ],
   "source": [
    "height1 = 442           # An integer\n",
    "height2 = 442.0         # Floating point\n",
    "height3 = 'Really tall' # A string\n",
    "\n",
    "type(height1)\n",
    "type(height2)\n",
    "type(height3)"
   ]
  },
  {
   "attachments": {},
   "cell_type": "markdown",
   "metadata": {},
   "source": [
    "Python is dynamically typed. The perceived \"type\" of a variable might change as a program executes depending on the current value assigned to it."
   ]
  },
  {
   "attachments": {},
   "cell_type": "markdown",
   "metadata": {},
   "source": [
    "**Case Sensitivity**\n",
    "\n",
    "Python is case sensitive. Upper and lower-case letters are considered different letters. These are all different variables:"
   ]
  },
  {
   "cell_type": "code",
   "execution_count": 18,
   "metadata": {},
   "outputs": [],
   "source": [
    "name = 'Jake'\n",
    "Name = 'Elwood'\n",
    "NAME = 'Guido'"
   ]
  },
  {
   "attachments": {},
   "cell_type": "markdown",
   "metadata": {},
   "source": [
    "Language statements are always lower-case."
   ]
  },
  {
   "cell_type": "code",
   "execution_count": 19,
   "metadata": {},
   "outputs": [
    {
     "ename": "IndentationError",
     "evalue": "expected an indented block (647684927.py, line 2)",
     "output_type": "error",
     "traceback": [
      "\u001b[1;36m  Input \u001b[1;32mIn [19]\u001b[1;36m\u001b[0m\n\u001b[1;33m    WHILE x < 0:   # ERROR\u001b[0m\n\u001b[1;37m    ^\u001b[0m\n\u001b[1;31mIndentationError\u001b[0m\u001b[1;31m:\u001b[0m expected an indented block\n"
     ]
    }
   ],
   "source": [
    "while x < 0:   # OK\n",
    "WHILE x < 0:   # ERROR"
   ]
  },
  {
   "attachments": {},
   "cell_type": "markdown",
   "metadata": {},
   "source": [
    "**Looping**"
   ]
  },
  {
   "attachments": {},
   "cell_type": "markdown",
   "metadata": {},
   "source": [
    "The while statement executes a loop."
   ]
  },
  {
   "cell_type": "code",
   "execution_count": 22,
   "metadata": {},
   "outputs": [
    {
     "name": "stdout",
     "output_type": "stream",
     "text": [
      "Number of days 23\n"
     ]
    }
   ],
   "source": [
    "while num_bills * thickness_dolarbill < sears_height: \n",
    "    print(day, num_bills, num_bills * thickness_dolarbill)\n",
    "    day = day + 1 # hari bertambah\n",
    "    num_bills = num_bills * 2 # uang berlipat ganda\n",
    "\n",
    "print('Number of days', day)"
   ]
  },
  {
   "attachments": {},
   "cell_type": "markdown",
   "metadata": {},
   "source": [
    "The statements indented below the `while` will execute as long as the expression after the `while` is `true`"
   ]
  },
  {
   "attachments": {},
   "cell_type": "markdown",
   "metadata": {},
   "source": [
    "**Indentation**\n",
    "\n",
    "Indentation is used to denote group of statements that go together. Indentation groups the following statements together as the operations that repeat:"
   ]
  },
  {
   "cell_type": "code",
   "execution_count": null,
   "metadata": {},
   "outputs": [],
   "source": [
    "    print(day, num_bills, num_bills * bill_thickness)\n",
    "    day = day + 1\n",
    "    num_bills = num_bills * 2"
   ]
  },
  {
   "attachments": {},
   "cell_type": "markdown",
   "metadata": {},
   "source": [
    "Because the `print()` statement at the end is not indented, it does not belong to the loop. The empty line is just for readability. It does not affect the execution."
   ]
  },
  {
   "attachments": {},
   "cell_type": "markdown",
   "metadata": {},
   "source": [
    "# Indentation best practices\n",
    "- Use spaces instead of tabs\n",
    "- Use 4 spaces per level\n",
    "- Use a Python-aware editor"
   ]
  },
  {
   "attachments": {},
   "cell_type": "markdown",
   "metadata": {},
   "source": [
    "Python's only requirement is that indentation within the same block be consistent. For example, this is an error:"
   ]
  },
  {
   "cell_type": "code",
   "execution_count": 23,
   "metadata": {},
   "outputs": [
    {
     "ename": "IndentationError",
     "evalue": "unexpected indent (4107431178.py, line 3)",
     "output_type": "error",
     "traceback": [
      "\u001b[1;36m  Input \u001b[1;32mIn [23]\u001b[1;36m\u001b[0m\n\u001b[1;33m    day = day + 1 # ERROR\u001b[0m\n\u001b[1;37m    ^\u001b[0m\n\u001b[1;31mIndentationError\u001b[0m\u001b[1;31m:\u001b[0m unexpected indent\n"
     ]
    }
   ],
   "source": [
    "while num_bills * bill_thickness < sears_height:\n",
    "    print(day, num_bills, num_bills * bill_thickness)\n",
    "        day = day + 1 # ERROR\n",
    "    num_bills = num_bills * 2"
   ]
  },
  {
   "attachments": {},
   "cell_type": "markdown",
   "metadata": {},
   "source": [
    "**Conditionals**\n",
    "\n",
    "The `if` statement is used to execute a conditional:"
   ]
  },
  {
   "cell_type": "code",
   "execution_count": 24,
   "metadata": {},
   "outputs": [
    {
     "name": "stdout",
     "output_type": "stream",
     "text": [
      "Computer says yes\n"
     ]
    }
   ],
   "source": [
    "if a > b:\n",
    "    print('Computer says no')\n",
    "else:\n",
    "    print('Computer says yes')"
   ]
  },
  {
   "attachments": {},
   "cell_type": "markdown",
   "metadata": {},
   "source": [
    "You can check for multiple conditions by adding extra checks using `elif`"
   ]
  },
  {
   "cell_type": "code",
   "execution_count": 25,
   "metadata": {},
   "outputs": [
    {
     "name": "stdout",
     "output_type": "stream",
     "text": [
      "Computer says maybe\n"
     ]
    }
   ],
   "source": [
    "if a > b:\n",
    "    print('Computer says no')\n",
    "elif a == b:\n",
    "    print('Computer says yes')\n",
    "else:\n",
    "    print('Computer says maybe')"
   ]
  },
  {
   "attachments": {},
   "cell_type": "markdown",
   "metadata": {},
   "source": [
    "**Printing**\n",
    "\n",
    "The `print` function produces a single line of text with the values passed."
   ]
  },
  {
   "cell_type": "code",
   "execution_count": 26,
   "metadata": {},
   "outputs": [
    {
     "name": "stdout",
     "output_type": "stream",
     "text": [
      "Hello World!\n"
     ]
    }
   ],
   "source": [
    "print('Hello World!') # Prints the text 'Hello World!'"
   ]
  },
  {
   "attachments": {},
   "cell_type": "markdown",
   "metadata": {},
   "source": [
    "You can use variables. The text printed will be the value of the variable, not the name."
   ]
  },
  {
   "cell_type": "code",
   "execution_count": 27,
   "metadata": {},
   "outputs": [
    {
     "name": "stdout",
     "output_type": "stream",
     "text": [
      "100\n"
     ]
    }
   ],
   "source": [
    "x = 100\n",
    "print(x) # Prints the text '100'"
   ]
  },
  {
   "attachments": {},
   "cell_type": "markdown",
   "metadata": {},
   "source": [
    "If you pass more than one value to `print`, they are separated by spaces."
   ]
  },
  {
   "cell_type": "code",
   "execution_count": 28,
   "metadata": {},
   "outputs": [
    {
     "name": "stdout",
     "output_type": "stream",
     "text": [
      "My name is Fadin\n"
     ]
    }
   ],
   "source": [
    "name = 'Fadin'\n",
    "print('My name is', name) # Print the text 'My name is Fadin'"
   ]
  },
  {
   "attachments": {},
   "cell_type": "markdown",
   "metadata": {},
   "source": [
    "The extra newline can be suppressed:"
   ]
  },
  {
   "cell_type": "code",
   "execution_count": 31,
   "metadata": {},
   "outputs": [
    {
     "name": "stdout",
     "output_type": "stream",
     "text": [
      "Hello! My name is Fadin\n"
     ]
    }
   ],
   "source": [
    "print('Hello!', end=' ')\n",
    "print('My name is', 'Fadin')"
   ]
  },
  {
   "attachments": {},
   "cell_type": "markdown",
   "metadata": {},
   "source": [
    "**User Input**"
   ]
  },
  {
   "attachments": {},
   "cell_type": "markdown",
   "metadata": {},
   "source": [
    "To read a line of typed user input, use the input() function:"
   ]
  },
  {
   "cell_type": "code",
   "execution_count": 32,
   "metadata": {},
   "outputs": [
    {
     "name": "stdout",
     "output_type": "stream",
     "text": [
      "Your name is Fadin\n"
     ]
    }
   ],
   "source": [
    "name = input('Enter your name:') # prints a prompt to the user & returns response\n",
    "print('Your name is', name)"
   ]
  },
  {
   "attachments": {},
   "cell_type": "markdown",
   "metadata": {},
   "source": [
    "input prints a prompt to the user and returns their response. This is useful for small programs, learning exercises or simple debugging. It is not widely used for real programs."
   ]
  },
  {
   "attachments": {},
   "cell_type": "markdown",
   "metadata": {},
   "source": [
    "**pass statement**\n",
    "\n",
    "Sometimes you need to specify an empty code block. The keyword `pass` is used for it."
   ]
  },
  {
   "cell_type": "code",
   "execution_count": 33,
   "metadata": {},
   "outputs": [
    {
     "name": "stdout",
     "output_type": "stream",
     "text": [
      "Computer says false\n"
     ]
    }
   ],
   "source": [
    "if a > b:\n",
    "    pass # does nothing, serves as a placeholder\n",
    "else:\n",
    "    print('Computer says false')"
   ]
  },
  {
   "attachments": {},
   "cell_type": "markdown",
   "metadata": {},
   "source": [
    "This is also called a \"no-op\" statement. It does nothing. It serves as a placeholder for statements, possibly to be added later."
   ]
  },
  {
   "attachments": {},
   "cell_type": "markdown",
   "metadata": {},
   "source": [
    "# Exercises\n",
    "\n",
    "**Exercise 1.5: The Bouncing Ball**\n",
    "\n",
    "A rubber ball is dropped from a height of 100 meters and each time it hits the ground, it bounces back up to 3/5 the height it fell. Write a program bounce.py that prints a table showing the height of the first 10 bounces.\n",
    "\n",
    "Your program should make a table that looks something like this:\n",
    "\n",
    "1 60.0\n",
    "\n",
    "2 36.0\n",
    "\n",
    "3 21.599999999999998\n",
    "\n",
    "4 12.959999999999999\n",
    "\n",
    "5 7.775999999999999\n",
    "\n",
    "6 4.6655999999999995\n",
    "\n",
    "7 2.7993599999999996\n",
    "\n",
    "8 1.6796159999999998\n",
    "\n",
    "9 1.0077695999999998\n",
    "\n",
    "10 0.6046617599999998\n",
    "\n",
    "Note: You can clean up the output a bit if you use the round() function. Try using it to round the output to 4 digits.\n",
    "\n",
    "1 60.0\n",
    "\n",
    "2 36.0\n",
    "\n",
    "3 21.6\n",
    "\n",
    "4 12.96\n",
    "\n",
    "5 7.776\n",
    "\n",
    "6 4.6656\n",
    "\n",
    "7 2.7994\n",
    "\n",
    "8 1.6796\n",
    "\n",
    "9 1.0078\n",
    "\n",
    "10 0.6047\n"
   ]
  },
  {
   "cell_type": "code",
   "execution_count": 3,
   "metadata": {},
   "outputs": [
    {
     "name": "stdout",
     "output_type": "stream",
     "text": [
      "1 60.0\n",
      "2 36.0\n",
      "3 21.6\n",
      "4 12.96\n",
      "5 7.776\n",
      "6 4.6656\n",
      "7 2.7994\n",
      "8 1.6796\n",
      "9 1.0078\n",
      "10 0.6047\n"
     ]
    }
   ],
   "source": [
    "# Define variable\n",
    "\n",
    "height = 100 \n",
    "bounce = 3/5\n",
    "num_bounces = 1\n",
    "\n",
    "while num_bounces <= 10:\n",
    "    height = bounce * height\n",
    "    height = round(height, 4)\n",
    "    print (num_bounces, height)\n",
    "    num_bounces += 1"
   ]
  },
  {
   "attachments": {},
   "cell_type": "markdown",
   "metadata": {},
   "source": [
    "**Exercise 1.6: Debugging**\n",
    "\n",
    "The following code fragment contains code from the Sears tower problem. It also has a bug in it.\n",
    "\n"
   ]
  },
  {
   "cell_type": "code",
   "execution_count": 4,
   "metadata": {},
   "outputs": [
    {
     "name": "stdout",
     "output_type": "stream",
     "text": [
      "1 1 0.00011\n"
     ]
    },
    {
     "ename": "NameError",
     "evalue": "name 'days' is not defined",
     "output_type": "error",
     "traceback": [
      "\u001b[1;31m---------------------------------------------------------------------------\u001b[0m",
      "\u001b[1;31mNameError\u001b[0m                                 Traceback (most recent call last)",
      "\u001b[1;32mc:\\Users\\Fadinda Shafira\\Documents\\KALBE\\Python\\practical-python\\Work\\01_Introduction\\1.2 A First Program.ipynb Cell 70\u001b[0m in \u001b[0;36m<cell line: 8>\u001b[1;34m()\u001b[0m\n\u001b[0;32m      <a href='vscode-notebook-cell:/c%3A/Users/Fadinda%20Shafira/Documents/KALBE/Python/practical-python/Work/01_Introduction/1.2%20A%20First%20Program.ipynb#Y126sZmlsZQ%3D%3D?line=7'>8</a>\u001b[0m \u001b[39mwhile\u001b[39;00m num_bills \u001b[39m*\u001b[39m bill_thickness \u001b[39m<\u001b[39m sears_height:\n\u001b[0;32m      <a href='vscode-notebook-cell:/c%3A/Users/Fadinda%20Shafira/Documents/KALBE/Python/practical-python/Work/01_Introduction/1.2%20A%20First%20Program.ipynb#Y126sZmlsZQ%3D%3D?line=8'>9</a>\u001b[0m     \u001b[39mprint\u001b[39m(day, num_bills, num_bills \u001b[39m*\u001b[39m bill_thickness)\n\u001b[1;32m---> <a href='vscode-notebook-cell:/c%3A/Users/Fadinda%20Shafira/Documents/KALBE/Python/practical-python/Work/01_Introduction/1.2%20A%20First%20Program.ipynb#Y126sZmlsZQ%3D%3D?line=9'>10</a>\u001b[0m     day \u001b[39m=\u001b[39m days \u001b[39m+\u001b[39m \u001b[39m1\u001b[39m\n\u001b[0;32m     <a href='vscode-notebook-cell:/c%3A/Users/Fadinda%20Shafira/Documents/KALBE/Python/practical-python/Work/01_Introduction/1.2%20A%20First%20Program.ipynb#Y126sZmlsZQ%3D%3D?line=10'>11</a>\u001b[0m     num_bills \u001b[39m=\u001b[39m num_bills \u001b[39m*\u001b[39m \u001b[39m2\u001b[39m\n\u001b[0;32m     <a href='vscode-notebook-cell:/c%3A/Users/Fadinda%20Shafira/Documents/KALBE/Python/practical-python/Work/01_Introduction/1.2%20A%20First%20Program.ipynb#Y126sZmlsZQ%3D%3D?line=12'>13</a>\u001b[0m \u001b[39mprint\u001b[39m(\u001b[39m'\u001b[39m\u001b[39mNumber of days\u001b[39m\u001b[39m'\u001b[39m, day)\n",
      "\u001b[1;31mNameError\u001b[0m: name 'days' is not defined"
     ]
    }
   ],
   "source": [
    "# sears.py\n",
    "\n",
    "bill_thickness = 0.11 * 0.001    # Meters (0.11 mm)\n",
    "sears_height   = 442             # Height (meters)\n",
    "num_bills      = 1\n",
    "day            = 1\n",
    "\n",
    "while num_bills * bill_thickness < sears_height:\n",
    "    print(day, num_bills, num_bills * bill_thickness)\n",
    "    day = days + 1\n",
    "    num_bills = num_bills * 2\n",
    "\n",
    "print('Number of days', day)\n",
    "print('Number of bills', num_bills)\n",
    "print('Final height', num_bills * bill_thickness)"
   ]
  },
  {
   "attachments": {},
   "cell_type": "markdown",
   "metadata": {},
   "source": [
    "Solution: change days variable to day, fix typo"
   ]
  },
  {
   "attachments": {},
   "cell_type": "markdown",
   "metadata": {},
   "source": [
    "Reading error messages is an important part of Python code. If your program crashes, the very last line of the traceback message is the actual reason why the the program crashed. Above that, you should see a fragment of source code and then an identifying filename and line number.\n",
    "\n",
    "- Which line is the error?\n",
    "- What is the error?\n",
    "- Fix the error\n",
    "- Run the program successfully"
   ]
  }
 ],
 "metadata": {
  "kernelspec": {
   "display_name": "Python 3",
   "language": "python",
   "name": "python3"
  },
  "language_info": {
   "codemirror_mode": {
    "name": "ipython",
    "version": 3
   },
   "file_extension": ".py",
   "mimetype": "text/x-python",
   "name": "python",
   "nbconvert_exporter": "python",
   "pygments_lexer": "ipython3",
   "version": "3.9.13"
  },
  "orig_nbformat": 4
 },
 "nbformat": 4,
 "nbformat_minor": 2
}
