{
 "cells": [
  {
   "attachments": {},
   "cell_type": "markdown",
   "metadata": {},
   "source": [
    "# 1.6 File Management\n",
    "\n",
    "Most programs need to read input from somewhere. This section discusses file access.\n",
    "\n",
    "**File Input and Output**\n",
    "\n",
    "Open a file."
   ]
  },
  {
   "cell_type": "code",
   "execution_count": null,
   "metadata": {},
   "outputs": [],
   "source": [
    "f = open('foo.text', 'rt')  # Open for reading (text)\n",
    "g = open('bar.txt', 'wt')   # Open for writing (text)"
   ]
  },
  {
   "attachments": {},
   "cell_type": "markdown",
   "metadata": {},
   "source": [
    "Read all of the data."
   ]
  },
  {
   "cell_type": "code",
   "execution_count": null,
   "metadata": {},
   "outputs": [],
   "source": [
    "data = f.read()\n",
    "\n",
    "# Read only up to 'maxbytes' bytes\n",
    "data = f.read([maxbytes])"
   ]
  },
  {
   "attachments": {},
   "cell_type": "markdown",
   "metadata": {},
   "source": [
    "Write some text."
   ]
  },
  {
   "cell_type": "code",
   "execution_count": null,
   "metadata": {},
   "outputs": [],
   "source": [
    "g.write('some text')"
   ]
  },
  {
   "attachments": {},
   "cell_type": "markdown",
   "metadata": {},
   "source": [
    "Close when you are done."
   ]
  },
  {
   "cell_type": "code",
   "execution_count": null,
   "metadata": {},
   "outputs": [],
   "source": [
    "f.close()\n",
    "g.close()"
   ]
  },
  {
   "attachments": {},
   "cell_type": "markdown",
   "metadata": {},
   "source": [
    "Files should be properly closed and it's an easy step to forget. Thus, the preferred approach is to use the with statement like this."
   ]
  },
  {
   "cell_type": "code",
   "execution_count": null,
   "metadata": {},
   "outputs": [],
   "source": [
    "with open(filename, 'rt') as file:\n",
    "    # use the file `file`\n",
    "    ...\n",
    "    # No need to close explicitly\n",
    "...statements"
   ]
  },
  {
   "attachments": {},
   "cell_type": "markdown",
   "metadata": {},
   "source": [
    "This automatically closes the file when control leaves the indented code block."
   ]
  },
  {
   "attachments": {},
   "cell_type": "markdown",
   "metadata": {},
   "source": [
    "**Common Idioms for Reading File Data**\n",
    "\n",
    "Read an entire file all at once as a string."
   ]
  },
  {
   "cell_type": "code",
   "execution_count": null,
   "metadata": {},
   "outputs": [],
   "source": [
    "with open('foo.txt', 'rt') as file:\n",
    "    data = file.read()\n",
    "    # `data` is a string with all the text in `foo.txt`"
   ]
  },
  {
   "attachments": {},
   "cell_type": "markdown",
   "metadata": {},
   "source": [
    "Read a file line-by-line by iterating."
   ]
  },
  {
   "cell_type": "code",
   "execution_count": null,
   "metadata": {},
   "outputs": [],
   "source": [
    "with open(filename, 'rt') as file:\n",
    "    for line in file:\n",
    "        # Process the line"
   ]
  },
  {
   "attachments": {},
   "cell_type": "markdown",
   "metadata": {},
   "source": [
    "**Common Idioms for Writing to a File**\n",
    "\n",
    "Write string data."
   ]
  },
  {
   "cell_type": "code",
   "execution_count": null,
   "metadata": {},
   "outputs": [],
   "source": [
    "with open('outfile', 'wt') as out:\n",
    "    out.write('Hello World\\n')\n",
    "    ..."
   ]
  },
  {
   "attachments": {},
   "cell_type": "markdown",
   "metadata": {},
   "source": [
    "Redirect the print function."
   ]
  },
  {
   "cell_type": "code",
   "execution_count": null,
   "metadata": {},
   "outputs": [],
   "source": [
    "with open('outfile', 'wt') as out:\n",
    "    print('Hello World', file=out)\n",
    "    ..."
   ]
  },
  {
   "attachments": {},
   "cell_type": "markdown",
   "metadata": {},
   "source": [
    "Redirect the print function."
   ]
  },
  {
   "cell_type": "code",
   "execution_count": null,
   "metadata": {},
   "outputs": [],
   "source": [
    "with open('outfile','wt') as out:\n",
    "    print('Hello World', file=out)\n",
    "    ..."
   ]
  },
  {
   "attachments": {},
   "cell_type": "markdown",
   "metadata": {},
   "source": [
    "## Exercises"
   ]
  },
  {
   "attachments": {},
   "cell_type": "markdown",
   "metadata": {},
   "source": [
    "These exercises depend on a file Data/portfolio.csv. The file contains a list of lines with information on a portfolio of stocks. It is assumed that you are working in the practical-python/Work/ directory. If you're not sure, you can find out where Python thinks it's running by doing this:"
   ]
  },
  {
   "cell_type": "code",
   "execution_count": 3,
   "metadata": {},
   "outputs": [
    {
     "data": {
      "text/plain": [
       "'C:\\\\Users\\\\Fadinda Shafira\\\\Documents\\\\KALBE\\\\Python\\\\practical-python\\\\Work'"
      ]
     },
     "execution_count": 3,
     "metadata": {},
     "output_type": "execute_result"
    }
   ],
   "source": [
    "import os\n",
    "os.getcwd()\n",
    "os.chdir(r\"C:\\Users\\Fadinda Shafira\\Documents\\KALBE\\Python\\practical-python\\Work\")\n",
    "os.getcwd()"
   ]
  },
  {
   "attachments": {},
   "cell_type": "markdown",
   "metadata": {},
   "source": [
    "**Exercise 1.26: File Preliminaries**\n",
    "\n",
    "First, try reading the entire file all at once as a big string:"
   ]
  },
  {
   "cell_type": "code",
   "execution_count": 7,
   "metadata": {},
   "outputs": [
    {
     "data": {
      "text/plain": [
       "'name,shares,price\\n\"AA\",100,32.20\\n\"IBM\",50,91.10\\n\"CAT\",150,83.44\\n\"MSFT\",200,51.23\\n\"GE\",95,40.37\\n\"MSFT\",50,65.10\\n\"IBM\",100,70.44\\n'"
      ]
     },
     "execution_count": 7,
     "metadata": {},
     "output_type": "execute_result"
    }
   ],
   "source": [
    "with open('Data\\portfolio.csv', 'rt') as f: # read text\n",
    "    data = f.read()\n",
    "\n",
    "data # python will show the raw string representation with quotes and escape codes"
   ]
  },
  {
   "cell_type": "code",
   "execution_count": 8,
   "metadata": {},
   "outputs": [
    {
     "name": "stdout",
     "output_type": "stream",
     "text": [
      "name,shares,price\n",
      "\"AA\",100,32.20\n",
      "\"IBM\",50,91.10\n",
      "\"CAT\",150,83.44\n",
      "\"MSFT\",200,51.23\n",
      "\"GE\",95,40.37\n",
      "\"MSFT\",50,65.10\n",
      "\"IBM\",100,70.44\n",
      "\n"
     ]
    }
   ],
   "source": [
    "print(data) # python will show the actual formatted output of the string"
   ]
  },
  {
   "attachments": {},
   "cell_type": "markdown",
   "metadata": {},
   "source": [
    "In the above example, it should be noted that Python has two modes of output. In the first mode where you type data at the prompt, Python shows you the raw string representation including quotes and escape codes. When you type print(data), you get the actual formatted output of the string.\n",
    "\n",
    "Although reading a file all at once is simple, it is often not the most appropriate way to do it—especially if the file happens to be huge or if contains lines of text that you want to handle one at a time.\n",
    "\n",
    "To read a file line-by-line, use a for-loop like this:"
   ]
  },
  {
   "cell_type": "code",
   "execution_count": 11,
   "metadata": {},
   "outputs": [
    {
     "name": "stdout",
     "output_type": "stream",
     "text": [
      "name,shares,price\n",
      "\"AA\",100,32.20\n",
      "\"IBM\",50,91.10\n",
      "\"CAT\",150,83.44\n",
      "\"MSFT\",200,51.23\n",
      "\"GE\",95,40.37\n",
      "\"MSFT\",50,65.10\n",
      "\"IBM\",100,70.44\n"
     ]
    }
   ],
   "source": [
    "with open('Data\\portfolio.csv', 'rt') as f:\n",
    "    for line in f:\n",
    "        print(line, end='')"
   ]
  },
  {
   "attachments": {},
   "cell_type": "markdown",
   "metadata": {},
   "source": [
    "When you use this code as shown, lines are read until the end of the file is reached at which point the loop stops.\n",
    "\n",
    "On certain occasions, you might want to manually read or skip a single line of text (e.g., perhaps you want to skip the first line of column headers)."
   ]
  },
  {
   "cell_type": "code",
   "execution_count": 12,
   "metadata": {},
   "outputs": [
    {
     "data": {
      "text/plain": [
       "'name,shares,price\\n'"
      ]
     },
     "execution_count": 12,
     "metadata": {},
     "output_type": "execute_result"
    }
   ],
   "source": [
    "f = open('Data/portfolio.csv', 'rt')\n",
    "headers = next(f)\n",
    "headers"
   ]
  },
  {
   "cell_type": "code",
   "execution_count": 13,
   "metadata": {},
   "outputs": [
    {
     "name": "stdout",
     "output_type": "stream",
     "text": [
      "\"AA\",100,32.20\n",
      "\"IBM\",50,91.10\n",
      "\"CAT\",150,83.44\n",
      "\"MSFT\",200,51.23\n",
      "\"GE\",95,40.37\n",
      "\"MSFT\",50,65.10\n",
      "\"IBM\",100,70.44\n"
     ]
    }
   ],
   "source": [
    "for line in f:\n",
    "    print(line, end='')"
   ]
  },
  {
   "cell_type": "code",
   "execution_count": 14,
   "metadata": {},
   "outputs": [],
   "source": [
    "f.close()"
   ]
  },
  {
   "attachments": {},
   "cell_type": "markdown",
   "metadata": {},
   "source": [
    "next() returns the next line of text in the file. If you were to call it repeatedly, you would get successive lines. However, just so you know, the for loop already uses next() to obtain its data. Thus, you normally wouldn’t call it directly unless you’re trying to explicitly skip or read a single line as shown.\n",
    "\n",
    "Once you’re reading lines of a file, you can start to perform more processing such as splitting. For example, try this:"
   ]
  },
  {
   "cell_type": "code",
   "execution_count": 33,
   "metadata": {},
   "outputs": [
    {
     "data": {
      "text/plain": [
       "['name', 'shares', 'price\\n']"
      ]
     },
     "execution_count": 33,
     "metadata": {},
     "output_type": "execute_result"
    }
   ],
   "source": [
    "f = open('Data/portfolio.csv', 'rt')\n",
    "headers = next(f).split(',')\n",
    "headers"
   ]
  },
  {
   "cell_type": "code",
   "execution_count": 34,
   "metadata": {},
   "outputs": [
    {
     "name": "stdout",
     "output_type": "stream",
     "text": [
      "['\"AA\"', '100', '32.20\\n']\n",
      "['\"IBM\"', '50', '91.10\\n']\n",
      "['\"CAT\"', '150', '83.44\\n']\n",
      "['\"MSFT\"', '200', '51.23\\n']\n",
      "['\"GE\"', '95', '40.37\\n']\n",
      "['\"MSFT\"', '50', '65.10\\n']\n",
      "['\"IBM\"', '100', '70.44\\n']\n"
     ]
    }
   ],
   "source": [
    "for line in f:\n",
    "    row = line.split(',')\n",
    "    print(row)\n"
   ]
  },
  {
   "cell_type": "code",
   "execution_count": 35,
   "metadata": {},
   "outputs": [],
   "source": [
    "f.close()"
   ]
  },
  {
   "attachments": {},
   "cell_type": "markdown",
   "metadata": {},
   "source": [
    "Note: In these examples, f.close() is being called explicitly because the with statement isn’t being used."
   ]
  },
  {
   "attachments": {},
   "cell_type": "markdown",
   "metadata": {},
   "source": [
    "**Exercise 1.27: Reading a data file**\n",
    "\n",
    "Now that you know how to read a file, let’s write a program to perform a simple calculation.\n",
    "\n",
    "The columns in portfolio.csv correspond to the stock name, number of shares, and purchase price of a single stock holding. Write a program called pcost.py that opens this file, reads all lines, and calculates how much it cost to purchase all of the shares in the portfolio.\n",
    "\n",
    "Hint: to convert a string to an integer, use int(s). To convert a string to a floating point, use float(s).\n",
    "\n",
    "Your program should print output such as the following:"
   ]
  },
  {
   "attachments": {},
   "cell_type": "markdown",
   "metadata": {},
   "source": [
    "Total cost 44671.15"
   ]
  },
  {
   "cell_type": "code",
   "execution_count": 53,
   "metadata": {},
   "outputs": [
    {
     "name": "stdout",
     "output_type": "stream",
     "text": [
      "Total cost  44671.15\n"
     ]
    }
   ],
   "source": [
    "total_cost = 0.0\n",
    "\n",
    "with open('Data/portfolio.csv', 'rt') as f: # open and file\n",
    "    # calculate cost to purchase all of the shares in the portfolio\n",
    "    headers = next(f)\n",
    "    total = []\n",
    "    for line in f:\n",
    "        row = line.split(',')\n",
    "        shares = int(row[1])\n",
    "        price = float(row[2])\n",
    "        total_cost += shares * price\n",
    "\n",
    "print('Total cost ', total_cost )\n",
    " \n"
   ]
  },
  {
   "attachments": {},
   "cell_type": "markdown",
   "metadata": {},
   "source": [
    "**Exercise 1.28: Other kinds of \"files\"**\n",
    "\n",
    "What if you wanted to read a non-text file such as a gzip-compressed datafile? The builtin open() function won’t help you here, but Python has a library module gzip that can read gzip compressed files.\n",
    "\n",
    "Try it:"
   ]
  },
  {
   "cell_type": "code",
   "execution_count": 55,
   "metadata": {},
   "outputs": [
    {
     "name": "stdout",
     "output_type": "stream",
     "text": [
      "name,shares,price\n",
      "\"AA\",100,32.20\n",
      "\"IBM\",50,91.10\n",
      "\"CAT\",150,83.44\n",
      "\"MSFT\",200,51.23\n",
      "\"GE\",95,40.37\n",
      "\"MSFT\",50,65.10\n",
      "\"IBM\",100,70.44\n"
     ]
    }
   ],
   "source": [
    "import gzip\n",
    "with gzip.open('Data/portfolio.csv.gz', 'rt') as f:\n",
    "    for line in f:\n",
    "        print(line, end='')\n"
   ]
  }
 ],
 "metadata": {
  "kernelspec": {
   "display_name": "Python 3",
   "language": "python",
   "name": "python3"
  },
  "language_info": {
   "codemirror_mode": {
    "name": "ipython",
    "version": 3
   },
   "file_extension": ".py",
   "mimetype": "text/x-python",
   "name": "python",
   "nbconvert_exporter": "python",
   "pygments_lexer": "ipython3",
   "version": "3.9.13"
  },
  "orig_nbformat": 4
 },
 "nbformat": 4,
 "nbformat_minor": 2
}
