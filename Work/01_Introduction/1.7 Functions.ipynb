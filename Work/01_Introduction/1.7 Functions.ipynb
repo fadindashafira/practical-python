{
 "cells": [
  {
   "attachments": {},
   "cell_type": "markdown",
   "metadata": {},
   "source": [
    "# 1.7 Functions\n",
    "\n",
    "As your programs start to get larger, you'll want to get organized. This section briefly introduces functions and library modules. Error handling with exceptions is also introduced.\n",
    "\n",
    "**Custom Functions**\n",
    "\n",
    "Use functions for code you want to reuse. Here is a function definition:"
   ]
  },
  {
   "cell_type": "code",
   "execution_count": 2,
   "metadata": {},
   "outputs": [],
   "source": [
    "def sumcount(n):\n",
    "    ''' \n",
    "    Returns the sum of the first n integers\n",
    "    \n",
    "    '''\n",
    "\n",
    "    total = 0\n",
    "    while n > 0:\n",
    "        total += n # menjumlahkan angka n ke total\n",
    "        n -= 1 # n terus berkurang hingga 0\n",
    "    return total # menghasilkan penjumlahan n integers"
   ]
  },
  {
   "attachments": {},
   "cell_type": "markdown",
   "metadata": {},
   "source": [
    "To call a function"
   ]
  },
  {
   "cell_type": "code",
   "execution_count": 4,
   "metadata": {},
   "outputs": [
    {
     "name": "stdout",
     "output_type": "stream",
     "text": [
      "5050\n"
     ]
    }
   ],
   "source": [
    "a = sumcount(100)\n",
    "print(a)"
   ]
  },
  {
   "attachments": {},
   "cell_type": "markdown",
   "metadata": {},
   "source": [
    "**A function** is a series of statements that **perform some task and return a result.**\n",
    "\n",
    "The return keyword is needed to **explicitly specify the return value** of the function."
   ]
  },
  {
   "attachments": {},
   "cell_type": "markdown",
   "metadata": {},
   "source": [
    "**Library Functions**\n",
    "\n",
    "Python comes with a large standard library. Library modules are accessed using import. For example:"
   ]
  },
  {
   "cell_type": "code",
   "execution_count": 7,
   "metadata": {},
   "outputs": [
    {
     "name": "stdout",
     "output_type": "stream",
     "text": [
      "3.1622776601683795\n"
     ]
    }
   ],
   "source": [
    "import math\n",
    "x = math.sqrt(10)\n",
    "print(x)"
   ]
  },
  {
   "cell_type": "code",
   "execution_count": null,
   "metadata": {},
   "outputs": [],
   "source": [
    "import urllib.request\n",
    "u = urllib.request.urlopen('http://www.python.org/')\n",
    "data = u.read()"
   ]
  },
  {
   "attachments": {},
   "cell_type": "markdown",
   "metadata": {},
   "source": [
    "**Errors and exceptions**\n",
    "\n",
    "Functions report errors as exceptions. An exception causes a function to abort and may cause your entire program to stop if unhandled.\n",
    "\n",
    "Try this in your python REPL."
   ]
  },
  {
   "cell_type": "code",
   "execution_count": 8,
   "metadata": {},
   "outputs": [
    {
     "ename": "ValueError",
     "evalue": "invalid literal for int() with base 10: 'N/A'",
     "output_type": "error",
     "traceback": [
      "\u001b[1;31m---------------------------------------------------------------------------\u001b[0m",
      "\u001b[1;31mValueError\u001b[0m                                Traceback (most recent call last)",
      "\u001b[1;32mc:\\Users\\Fadinda Shafira\\Documents\\KALBE\\Python\\practical-python\\Work\\01_Introduction\\1.7 Functions.ipynb Cell 10\u001b[0m in \u001b[0;36m<cell line: 1>\u001b[1;34m()\u001b[0m\n\u001b[1;32m----> <a href='vscode-notebook-cell:/c%3A/Users/Fadinda%20Shafira/Documents/KALBE/Python/practical-python/Work/01_Introduction/1.7%20Functions.ipynb#X14sZmlsZQ%3D%3D?line=0'>1</a>\u001b[0m \u001b[39mint\u001b[39;49m(\u001b[39m'\u001b[39;49m\u001b[39mN/A\u001b[39;49m\u001b[39m'\u001b[39;49m)\n",
      "\u001b[1;31mValueError\u001b[0m: invalid literal for int() with base 10: 'N/A'"
     ]
    }
   ],
   "source": [
    "int('N/A')"
   ]
  },
  {
   "attachments": {},
   "cell_type": "markdown",
   "metadata": {},
   "source": [
    "For debugging purposes, the message describes what happened, where the error occurred, and a traceback showing the other function calls that led to the failure."
   ]
  },
  {
   "attachments": {},
   "cell_type": "markdown",
   "metadata": {},
   "source": [
    "**Catching and Handling Exceptions**\n",
    "\n",
    "Exceptions can be caught and handled.\n",
    "\n",
    "To catch, use the try - except statement."
   ]
  },
  {
   "cell_type": "code",
   "execution_count": null,
   "metadata": {},
   "outputs": [],
   "source": [
    "for line in file:\n",
    "    fields = line.split('.')\n",
    "    try:\n",
    "        shares = int(fields[1])\n",
    "    except ValueError:\n",
    "        print(\"Couldn't parse\", line)"
   ]
  },
  {
   "attachments": {},
   "cell_type": "markdown",
   "metadata": {},
   "source": [
    "The name ValueError must match the kind of error you are trying to catch.\n",
    "\n",
    "It is often difficult to know exactly what kinds of errors might occur in advance depending on the operation being performed. For better or for worse, exception handling often gets added after a program has unexpectedly crashed (i.e., \"oh, we forgot to catch that error. We should handle that!\")."
   ]
  },
  {
   "attachments": {},
   "cell_type": "markdown",
   "metadata": {},
   "source": [
    "**Raising Exceptions**\n",
    "\n",
    "To raise an exception, use the raise statement."
   ]
  },
  {
   "cell_type": "code",
   "execution_count": null,
   "metadata": {},
   "outputs": [],
   "source": [
    "raise RuntimeError('What a kerfuffle')"
   ]
  },
  {
   "attachments": {},
   "cell_type": "markdown",
   "metadata": {},
   "source": [
    "This will cause the program to abort with an exception traceback. Unless caught by a try-except block."
   ]
  },
  {
   "attachments": {},
   "cell_type": "markdown",
   "metadata": {},
   "source": [
    "% python3 foo.py\n",
    "Traceback (most recent call last):\n",
    "  File \"foo.py\", line 21, in <module>\n",
    "    raise RuntimeError(\"What a kerfuffle\")\n",
    "RuntimeError: What a kerfuffle"
   ]
  },
  {
   "attachments": {},
   "cell_type": "markdown",
   "metadata": {},
   "source": [
    "# Exercises\n",
    "\n",
    "**Exercise 1.29: Defining a function**\n",
    "\n",
    "Try defining a simple function:"
   ]
  },
  {
   "cell_type": "code",
   "execution_count": 10,
   "metadata": {},
   "outputs": [],
   "source": [
    "def greeting(name):\n",
    "    # Issues a greeting\n",
    "    print('Hello', name)"
   ]
  },
  {
   "cell_type": "code",
   "execution_count": 11,
   "metadata": {},
   "outputs": [
    {
     "name": "stdout",
     "output_type": "stream",
     "text": [
      "Hello Guido\n"
     ]
    }
   ],
   "source": [
    "greeting('Guido')"
   ]
  },
  {
   "attachments": {},
   "cell_type": "markdown",
   "metadata": {},
   "source": [
    "If the first statement of a function is a string, it serves as documentation. Try typing a command such as help(greeting) to see it displayed."
   ]
  },
  {
   "cell_type": "code",
   "execution_count": 12,
   "metadata": {},
   "outputs": [
    {
     "name": "stdout",
     "output_type": "stream",
     "text": [
      "Help on function greeting in module __main__:\n",
      "\n",
      "greeting(name)\n",
      "\n"
     ]
    }
   ],
   "source": [
    "help(greeting) # show documentation of a function "
   ]
  },
  {
   "attachments": {},
   "cell_type": "markdown",
   "metadata": {},
   "source": [
    "**Exercise 1.30: Turning a script into a function**\n",
    "\n",
    "Take the code you wrote for the pcost.py program in Exercise 1.27 and turn it into a function portfolio_cost(filename). This function takes a filename as input, reads the portfolio data in that file, and returns the total cost of the portfolio as a float.\n",
    "\n",
    "To use your function, change your program so that it looks something like this:"
   ]
  },
  {
   "cell_type": "code",
   "execution_count": 31,
   "metadata": {},
   "outputs": [],
   "source": [
    "def portfolio_cost(filename):\n",
    "    total_cost = 0.0\n",
    "\n",
    "    with open(filename, 'rt') as f: # open and file\n",
    "        # calculate cost to purchase all of the shares in the portfolio\n",
    "        headers = next(f)\n",
    "        for line in f:\n",
    "            row = line.split(',')\n",
    "            shares = int(row[1])\n",
    "            price = float(row[2])\n",
    "            total_cost += shares * price  \n",
    "    \n",
    "    return total_cost"
   ]
  },
  {
   "cell_type": "code",
   "execution_count": 32,
   "metadata": {},
   "outputs": [],
   "source": [
    "import os\n",
    "os.chdir(r'C:\\Users\\Fadinda Shafira\\Documents\\KALBE\\Python\\practical-python\\Work')"
   ]
  },
  {
   "cell_type": "code",
   "execution_count": 33,
   "metadata": {},
   "outputs": [
    {
     "name": "stdout",
     "output_type": "stream",
     "text": [
      "Total cost: 44671.15\n"
     ]
    }
   ],
   "source": [
    "cost = portfolio_cost('Data\\portfolio.csv')\n",
    "print('Total cost:', cost)"
   ]
  },
  {
   "cell_type": "code",
   "execution_count": 34,
   "metadata": {},
   "outputs": [
    {
     "data": {
      "text/plain": [
       "44671.15"
      ]
     },
     "execution_count": 34,
     "metadata": {},
     "output_type": "execute_result"
    }
   ],
   "source": [
    "portfolio_cost('Data\\portfolio.csv')"
   ]
  },
  {
   "attachments": {},
   "cell_type": "markdown",
   "metadata": {},
   "source": [
    "When you run your program, you should see the same output as before. After you’ve run your program, you can also call your function interactively by typing this:\n",
    "\n",
    "python -i pcost.py"
   ]
  },
  {
   "cell_type": "code",
   "execution_count": null,
   "metadata": {},
   "outputs": [],
   "source": [
    "PS C:\\Users\\Fadinda Shafira\\Documents\\KALBE\\Python\\practical-python\\Work> python -i pcost.py"
   ]
  },
  {
   "attachments": {},
   "cell_type": "markdown",
   "metadata": {},
   "source": [
    "This will allow you to call your function from the interactive mode."
   ]
  },
  {
   "attachments": {},
   "cell_type": "markdown",
   "metadata": {},
   "source": [
    ">>> portfolio_cost('Data/portfolio.csv')\n",
    "44671.15"
   ]
  },
  {
   "attachments": {},
   "cell_type": "markdown",
   "metadata": {},
   "source": [
    "Being able to experiment with your code interactively is useful for testing and debugging.\n",
    "\n",
    "**Exercise 1.31: Error handling**\n",
    "\n",
    "What happens if you try your function on a file with some missing fields?"
   ]
  },
  {
   "cell_type": "code",
   "execution_count": 37,
   "metadata": {},
   "outputs": [
    {
     "ename": "ValueError",
     "evalue": "invalid literal for int() with base 10: ''",
     "output_type": "error",
     "traceback": [
      "\u001b[1;31m---------------------------------------------------------------------------\u001b[0m",
      "\u001b[1;31mValueError\u001b[0m                                Traceback (most recent call last)",
      "\u001b[1;32mc:\\Users\\Fadinda Shafira\\Documents\\KALBE\\Python\\practical-python\\Work\\01_Introduction\\1.7 Functions.ipynb Cell 34\u001b[0m in \u001b[0;36m<cell line: 1>\u001b[1;34m()\u001b[0m\n\u001b[1;32m----> <a href='vscode-notebook-cell:/c%3A/Users/Fadinda%20Shafira/Documents/KALBE/Python/practical-python/Work/01_Introduction/1.7%20Functions.ipynb#X52sZmlsZQ%3D%3D?line=0'>1</a>\u001b[0m portfolio_cost(\u001b[39m'\u001b[39;49m\u001b[39mData\u001b[39;49m\u001b[39m\\\u001b[39;49m\u001b[39mmissing.csv\u001b[39;49m\u001b[39m'\u001b[39;49m)\n",
      "\u001b[1;32mc:\\Users\\Fadinda Shafira\\Documents\\KALBE\\Python\\practical-python\\Work\\01_Introduction\\1.7 Functions.ipynb Cell 34\u001b[0m in \u001b[0;36mportfolio_cost\u001b[1;34m(filename)\u001b[0m\n\u001b[0;32m      <a href='vscode-notebook-cell:/c%3A/Users/Fadinda%20Shafira/Documents/KALBE/Python/practical-python/Work/01_Introduction/1.7%20Functions.ipynb#X52sZmlsZQ%3D%3D?line=6'>7</a>\u001b[0m \u001b[39mfor\u001b[39;00m line \u001b[39min\u001b[39;00m f:\n\u001b[0;32m      <a href='vscode-notebook-cell:/c%3A/Users/Fadinda%20Shafira/Documents/KALBE/Python/practical-python/Work/01_Introduction/1.7%20Functions.ipynb#X52sZmlsZQ%3D%3D?line=7'>8</a>\u001b[0m     row \u001b[39m=\u001b[39m line\u001b[39m.\u001b[39msplit(\u001b[39m'\u001b[39m\u001b[39m,\u001b[39m\u001b[39m'\u001b[39m)\n\u001b[1;32m----> <a href='vscode-notebook-cell:/c%3A/Users/Fadinda%20Shafira/Documents/KALBE/Python/practical-python/Work/01_Introduction/1.7%20Functions.ipynb#X52sZmlsZQ%3D%3D?line=8'>9</a>\u001b[0m     shares \u001b[39m=\u001b[39m \u001b[39mint\u001b[39;49m(row[\u001b[39m1\u001b[39;49m])\n\u001b[0;32m     <a href='vscode-notebook-cell:/c%3A/Users/Fadinda%20Shafira/Documents/KALBE/Python/practical-python/Work/01_Introduction/1.7%20Functions.ipynb#X52sZmlsZQ%3D%3D?line=9'>10</a>\u001b[0m     price \u001b[39m=\u001b[39m \u001b[39mfloat\u001b[39m(row[\u001b[39m2\u001b[39m])\n\u001b[0;32m     <a href='vscode-notebook-cell:/c%3A/Users/Fadinda%20Shafira/Documents/KALBE/Python/practical-python/Work/01_Introduction/1.7%20Functions.ipynb#X52sZmlsZQ%3D%3D?line=10'>11</a>\u001b[0m     total_cost \u001b[39m+\u001b[39m\u001b[39m=\u001b[39m shares \u001b[39m*\u001b[39m price\n",
      "\u001b[1;31mValueError\u001b[0m: invalid literal for int() with base 10: ''"
     ]
    }
   ],
   "source": [
    "portfolio_cost('Data\\missing.csv')"
   ]
  },
  {
   "attachments": {},
   "cell_type": "markdown",
   "metadata": {},
   "source": [
    "At this point, you’re faced with a decision. To make the program work you can either sanitize the original input file by eliminating bad lines or you can modify your code to handle the bad lines in some manner.\n",
    "\n",
    "Modify the pcost.py program to catch the exception, print a warning message, and continue processing the rest of the file."
   ]
  },
  {
   "cell_type": "code",
   "execution_count": 42,
   "metadata": {},
   "outputs": [],
   "source": [
    "def portfolio_cost(filename):\n",
    "    total_cost = 0.0\n",
    "\n",
    "    with open(filename, 'rt') as f: # open and file\n",
    "        # calculate cost to purchase all of the shares in the portfolio\n",
    "        headers = next(f)\n",
    "        for line in f:\n",
    "            row = line.split(',')\n",
    "\n",
    "            try:\n",
    "                shares = int(row[1])\n",
    "            except ValueError:\n",
    "                print(\"Warning: Couldn't parse\", line, '. Missing values detected')\n",
    "\n",
    "            price = float(row[2])\n",
    "            total_cost += shares * price  \n",
    "    \n",
    "    return total_cost"
   ]
  },
  {
   "cell_type": "code",
   "execution_count": 43,
   "metadata": {},
   "outputs": [
    {
     "name": "stdout",
     "output_type": "stream",
     "text": [
      "Warning: Couldn't parse \"MSFT\",,51.23\n",
      " . Missing values detected\n",
      "Warning: Couldn't parse \"IBM\",,70.44\n",
      " . Missing values detected\n"
     ]
    },
    {
     "data": {
      "text/plain": [
       "38587.65"
      ]
     },
     "execution_count": 43,
     "metadata": {},
     "output_type": "execute_result"
    }
   ],
   "source": [
    "portfolio_cost('Data\\missing.csv')"
   ]
  },
  {
   "attachments": {},
   "cell_type": "markdown",
   "metadata": {},
   "source": [
    "**Exercise 1.32: Using a library function**\n",
    "\n",
    "Python comes with a large standard library of useful functions. One library that might be useful here is the csv module. You should use it whenever you have to work with CSV data files. Here is an example of how it works:"
   ]
  },
  {
   "cell_type": "code",
   "execution_count": 44,
   "metadata": {},
   "outputs": [
    {
     "data": {
      "text/plain": [
       "['name', 'shares', 'price']"
      ]
     },
     "execution_count": 44,
     "metadata": {},
     "output_type": "execute_result"
    }
   ],
   "source": [
    "import csv\n",
    "f = open('Data\\portfolio.csv')\n",
    "rows = csv.reader(f)\n",
    "headers = next(rows)\n",
    "headers"
   ]
  },
  {
   "cell_type": "code",
   "execution_count": 45,
   "metadata": {},
   "outputs": [
    {
     "name": "stdout",
     "output_type": "stream",
     "text": [
      "['AA', '100', '32.20']\n",
      "['IBM', '50', '91.10']\n",
      "['CAT', '150', '83.44']\n",
      "['MSFT', '200', '51.23']\n",
      "['GE', '95', '40.37']\n",
      "['MSFT', '50', '65.10']\n",
      "['IBM', '100', '70.44']\n"
     ]
    }
   ],
   "source": [
    "for row in rows:\n",
    "    print(row)"
   ]
  },
  {
   "cell_type": "code",
   "execution_count": 46,
   "metadata": {},
   "outputs": [],
   "source": [
    "f.close()"
   ]
  },
  {
   "attachments": {},
   "cell_type": "markdown",
   "metadata": {},
   "source": [
    "One nice thing about the csv module is that it deals with a variety of low-level details such as quoting and proper comma splitting. In the above output, you’ll notice that it has stripped the double-quotes away from the names in the first column.\n",
    "\n",
    "Modify your pcost.py program so that it uses the csv module for parsing and try running earlier examples."
   ]
  },
  {
   "cell_type": "code",
   "execution_count": 54,
   "metadata": {},
   "outputs": [],
   "source": [
    "def portfolio_cost_csv(filename):\n",
    "    total_cost = 0.0\n",
    "    f = open(filename)\n",
    "    rows = csv.reader(f)\n",
    "    headers = next(rows)\n",
    "\n",
    "    for row in rows:\n",
    "        try:\n",
    "            shares = int(row[1])\n",
    "        except ValueError:\n",
    "            print(\"Warning: Couldn't parse\", row, '. Missing values detected')\n",
    "\n",
    "        price = float(row[2])\n",
    "        total_cost += shares * price  \n",
    "    \n",
    "    f.close()\n",
    "    \n",
    "    return total_cost"
   ]
  },
  {
   "cell_type": "code",
   "execution_count": 55,
   "metadata": {},
   "outputs": [
    {
     "data": {
      "text/plain": [
       "44671.15"
      ]
     },
     "execution_count": 55,
     "metadata": {},
     "output_type": "execute_result"
    }
   ],
   "source": [
    "portfolio_cost_csv('Data\\portfolio.csv')"
   ]
  },
  {
   "cell_type": "code",
   "execution_count": 56,
   "metadata": {},
   "outputs": [
    {
     "name": "stdout",
     "output_type": "stream",
     "text": [
      "Warning: Couldn't parse ['MSFT', '', '51.23'] . Missing values detected\n",
      "Warning: Couldn't parse ['IBM', '', '70.44'] . Missing values detected\n"
     ]
    },
    {
     "data": {
      "text/plain": [
       "38587.65"
      ]
     },
     "execution_count": 56,
     "metadata": {},
     "output_type": "execute_result"
    }
   ],
   "source": [
    "portfolio_cost_csv('Data\\missing.csv')"
   ]
  },
  {
   "attachments": {},
   "cell_type": "markdown",
   "metadata": {},
   "source": [
    "**Exercise 1.33: Reading from the command line**\n",
    "\n",
    "In the pcost.py program, the name of the input file has been hardwired into the code:"
   ]
  },
  {
   "cell_type": "code",
   "execution_count": null,
   "metadata": {},
   "outputs": [],
   "source": [
    "# pcost.py\n",
    "\n",
    "def portfolio_cost(filename):\n",
    "    ...\n",
    "    # Your code here\n",
    "    ...\n",
    "\n",
    "cost = portfolio_cost('Data/portfolio.csv')\n",
    "print('Total cost:', cost)"
   ]
  },
  {
   "attachments": {},
   "cell_type": "markdown",
   "metadata": {},
   "source": [
    "That’s fine for learning and testing, but in a real program you probably wouldn’t do that.\n",
    "\n",
    "Instead, you might pass the name of the file in as an argument to a script. Try changing the bottom part of the program as follows:"
   ]
  },
  {
   "cell_type": "code",
   "execution_count": null,
   "metadata": {},
   "outputs": [],
   "source": [
    "# pcost.py\n",
    "import sys\n",
    "\n",
    "def portfolio_cost(filename):\n",
    "    ...\n",
    "    # Your code here\n",
    "    ...\n",
    "\n",
    "if len(sys.argv) == 2: \n",
    "    filename = sys.argv[1]\n",
    "else:\n",
    "    filename = 'Data/portfolio.csv'\n",
    "\n",
    "cost = portfolio_cost(filename)\n",
    "print('Total cost:', cost)"
   ]
  },
  {
   "attachments": {},
   "cell_type": "markdown",
   "metadata": {},
   "source": [
    "When a python script is executed with arguments, it is captured by Python and stored in a list called sys.argv. \n",
    "\n",
    "So, if the below script is executed\n",
    "\n",
    "python sample.py Hello Python \n",
    "\n",
    "Then inside sample.py, arguments are stored as: \n",
    "\n",
    "sys.argv[0] == ‘sample.py’ \n",
    "\n",
    "sys.argv[1] == ‘Hello’ \n",
    "\n",
    "sys.argv[2] == ‘Python’\n",
    "\n",
    "Here, sys.argv[0] is always the filename/script executed and sys.argv[1] is the first command line argument passed to the script.\n",
    "\n",
    "---"
   ]
  },
  {
   "attachments": {},
   "cell_type": "markdown",
   "metadata": {},
   "source": [
    "sys.argv is a list that contains passed arguments on the command line (if any).\n",
    "\n",
    "To run your program, you’ll need to run Python from the terminal.\n"
   ]
  },
  {
   "attachments": {},
   "cell_type": "markdown",
   "metadata": {},
   "source": [
    "PS C:\\Users\\Fadinda Shafira\\Documents\\KALBE\\Python\\practical-python\\Work> python pcost.py Data\\portfolio.csv              Total cost: 44671.15"
   ]
  }
 ],
 "metadata": {
  "kernelspec": {
   "display_name": "Python 3",
   "language": "python",
   "name": "python3"
  },
  "language_info": {
   "codemirror_mode": {
    "name": "ipython",
    "version": 3
   },
   "file_extension": ".py",
   "mimetype": "text/x-python",
   "name": "python",
   "nbconvert_exporter": "python",
   "pygments_lexer": "ipython3",
   "version": "3.9.13"
  },
  "orig_nbformat": 4
 },
 "nbformat": 4,
 "nbformat_minor": 2
}
